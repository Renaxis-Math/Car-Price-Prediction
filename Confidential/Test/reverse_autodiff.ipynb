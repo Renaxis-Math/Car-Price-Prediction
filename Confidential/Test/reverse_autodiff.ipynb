{
 "cells": [
  {
   "cell_type": "code",
   "execution_count": 4,
   "metadata": {},
   "outputs": [],
   "source": [
    "class AutogradValue:\n",
    "    '''\n",
    "    Base class for automatic differentiation operations. \n",
    "    Represents variable delcaration. Subclasses will overwrite \n",
    "    func and grads to define new operations.\n",
    "\n",
    "    Properties:\n",
    "        parents (list):  A list of the inputs to the operation, \n",
    "                         may be AutogradValue or float\n",
    "        args    (list):  A list of raw values of each \n",
    "                         input (as floats)\n",
    "        grad    (float): The derivative of the final loss with \n",
    "                         respect to this value (dL/da)\n",
    "        value   (float): The value of the result of this operation\n",
    "    '''\n",
    "\n",
    "    def __init__(self, *args):\n",
    "        self.parents = list(args)\n",
    "        self.args = [arg.value if isinstance(arg, AutogradValue) \n",
    "                     else arg \n",
    "                     for arg in self.parents]\n",
    "        self.grad = 0.\n",
    "        self.value = self.forward_pass()\n",
    "\n",
    "    def forward_pass(self):\n",
    "        # Calls func to compute the value of this operation \n",
    "        return self.func(*self.args)\n",
    "    \n",
    "    def func(self, input):\n",
    "        '''\n",
    "        Compute the value of the operation given the inputs.\n",
    "        For declaring a variable, this is just the identity \n",
    "        function (return the input).\n",
    "\n",
    "        Args:\n",
    "            input (float): The input to the operation\n",
    "        Returns:\n",
    "            value (float): The result of the operation\n",
    "        '''\n",
    "        return input\n",
    "\n",
    "class _square(AutogradValue):\n",
    "    # Square operator (a ** 2)\n",
    "    def func(self, a):\n",
    "        return a ** 2\n",
    "\n",
    "class _mul(AutogradValue):\n",
    "    # Multiply operator (a * b)\n",
    "    def func(self, a, b):\n",
    "        return a * b    "
   ]
  },
  {
   "cell_type": "code",
   "execution_count": 3,
   "metadata": {},
   "outputs": [
    {
     "ename": "TypeError",
     "evalue": "unsupported operand type(s) for ** or pow(): 'AutogradValue' and 'int'",
     "output_type": "error",
     "traceback": [
      "\u001b[0;31m---------------------------------------------------------------------------\u001b[0m",
      "\u001b[0;31mTypeError\u001b[0m                                 Traceback (most recent call last)",
      "\u001b[1;32m/Users/hoangchu/Documents/Confidential-main/Test/reverse_autodiff.ipynb Cell 2\u001b[0m line \u001b[0;36m2\n\u001b[1;32m      <a href='vscode-notebook-cell:/Users/hoangchu/Documents/Confidential-main/Test/reverse_autodiff.ipynb#W1sZmlsZQ%3D%3D?line=0'>1</a>\u001b[0m x \u001b[39m=\u001b[39m AutogradValue(\u001b[39m2\u001b[39m)\n\u001b[0;32m----> <a href='vscode-notebook-cell:/Users/hoangchu/Documents/Confidential-main/Test/reverse_autodiff.ipynb#W1sZmlsZQ%3D%3D?line=1'>2</a>\u001b[0m a \u001b[39m=\u001b[39m x \u001b[39m*\u001b[39;49m\u001b[39m*\u001b[39;49m \u001b[39m2\u001b[39;49m\n\u001b[1;32m      <a href='vscode-notebook-cell:/Users/hoangchu/Documents/Confidential-main/Test/reverse_autodiff.ipynb#W1sZmlsZQ%3D%3D?line=2'>3</a>\u001b[0m b \u001b[39m=\u001b[39m \u001b[39m5\u001b[39m \u001b[39m*\u001b[39m a\n\u001b[1;32m      <a href='vscode-notebook-cell:/Users/hoangchu/Documents/Confidential-main/Test/reverse_autodiff.ipynb#W1sZmlsZQ%3D%3D?line=3'>4</a>\u001b[0m c \u001b[39m=\u001b[39m b \u001b[39m*\u001b[39m a\n",
      "\u001b[0;31mTypeError\u001b[0m: unsupported operand type(s) for ** or pow(): 'AutogradValue' and 'int'"
     ]
    }
   ],
   "source": [
    "x = AutogradValue(2)\n",
    "a = x ** 2\n",
    "b = 5 * a\n",
    "c = b * a\n",
    "L = -c"
   ]
  },
  {
   "cell_type": "code",
   "execution_count": null,
   "metadata": {},
   "outputs": [],
   "source": []
  }
 ],
 "metadata": {
  "kernelspec": {
   "display_name": "base",
   "language": "python",
   "name": "python3"
  },
  "language_info": {
   "codemirror_mode": {
    "name": "ipython",
    "version": 3
   },
   "file_extension": ".py",
   "mimetype": "text/x-python",
   "name": "python",
   "nbconvert_exporter": "python",
   "pygments_lexer": "ipython3",
   "version": "3.11.3"
  },
  "orig_nbformat": 4,
  "vscode": {
   "interpreter": {
    "hash": "265371ff1b98b9f4eaa16d44fb1eb5bb5e02f4557e1c68186d1d500959ccd159"
   }
  }
 },
 "nbformat": 4,
 "nbformat_minor": 2
}
