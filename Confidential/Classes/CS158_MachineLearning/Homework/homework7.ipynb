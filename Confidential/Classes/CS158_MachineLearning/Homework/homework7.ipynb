{
  "cells": [
    {
      "cell_type": "markdown",
      "metadata": {
        "id": "umOGtyvwIkHc"
      },
      "source": [
        "**Homework 7**\n",
        "\n",
        "In this assignment you will do a lot of reading first. Read all text and code blocks below, and make sure you understand every line of code. At the bottom of the colab you will find the assignment.\n",
        "\n",
        "We begin as usual with a few imports that you'll need:"
      ]
    },
    {
      "cell_type": "code",
      "execution_count": 332,
      "metadata": {
        "id": "R9hRMTmLP8-m"
      },
      "outputs": [],
      "source": [
        "import numpy as np\n",
        "import pandas as pd\n",
        "import matplotlib.pyplot as plt\n",
        "\n",
        "import ssl\n",
        "ssl._create_default_https_context = ssl._create_unverified_context"
      ]
    },
    {
      "cell_type": "markdown",
      "metadata": {
        "id": "Y-LgpnhNIsMh"
      },
      "source": [
        "We'll look at the classic \"cars\" dataset. You can read about it here:\n",
        "[link](https://vincentarelbundock.github.io/Rdatasets/doc/causaldata/auto.html)"
      ]
    },
    {
      "cell_type": "code",
      "execution_count": 333,
      "metadata": {
        "id": "iJQmecLETK19"
      },
      "outputs": [
        {
          "data": {
            "text/html": [
              "<div>\n",
              "<style scoped>\n",
              "    .dataframe tbody tr th:only-of-type {\n",
              "        vertical-align: middle;\n",
              "    }\n",
              "\n",
              "    .dataframe tbody tr th {\n",
              "        vertical-align: top;\n",
              "    }\n",
              "\n",
              "    .dataframe thead th {\n",
              "        text-align: right;\n",
              "    }\n",
              "</style>\n",
              "<table border=\"1\" class=\"dataframe\">\n",
              "  <thead>\n",
              "    <tr style=\"text-align: right;\">\n",
              "      <th></th>\n",
              "      <th>rownames</th>\n",
              "      <th>make</th>\n",
              "      <th>price</th>\n",
              "      <th>mpg</th>\n",
              "      <th>rep78</th>\n",
              "      <th>headroom</th>\n",
              "      <th>trunk</th>\n",
              "      <th>weight</th>\n",
              "      <th>length</th>\n",
              "      <th>turn</th>\n",
              "      <th>displacement</th>\n",
              "      <th>gear_ratio</th>\n",
              "      <th>foreign</th>\n",
              "    </tr>\n",
              "  </thead>\n",
              "  <tbody>\n",
              "    <tr>\n",
              "      <th>0</th>\n",
              "      <td>1</td>\n",
              "      <td>AMC Concord</td>\n",
              "      <td>4099</td>\n",
              "      <td>22</td>\n",
              "      <td>3.0</td>\n",
              "      <td>2.5</td>\n",
              "      <td>11</td>\n",
              "      <td>2930</td>\n",
              "      <td>186</td>\n",
              "      <td>40</td>\n",
              "      <td>121</td>\n",
              "      <td>3.58</td>\n",
              "      <td>0</td>\n",
              "    </tr>\n",
              "    <tr>\n",
              "      <th>1</th>\n",
              "      <td>2</td>\n",
              "      <td>AMC Pacer</td>\n",
              "      <td>4749</td>\n",
              "      <td>17</td>\n",
              "      <td>3.0</td>\n",
              "      <td>3.0</td>\n",
              "      <td>11</td>\n",
              "      <td>3350</td>\n",
              "      <td>173</td>\n",
              "      <td>40</td>\n",
              "      <td>258</td>\n",
              "      <td>2.53</td>\n",
              "      <td>0</td>\n",
              "    </tr>\n",
              "    <tr>\n",
              "      <th>2</th>\n",
              "      <td>3</td>\n",
              "      <td>AMC Spirit</td>\n",
              "      <td>3799</td>\n",
              "      <td>22</td>\n",
              "      <td>NaN</td>\n",
              "      <td>3.0</td>\n",
              "      <td>12</td>\n",
              "      <td>2640</td>\n",
              "      <td>168</td>\n",
              "      <td>35</td>\n",
              "      <td>121</td>\n",
              "      <td>3.08</td>\n",
              "      <td>0</td>\n",
              "    </tr>\n",
              "  </tbody>\n",
              "</table>\n",
              "</div>"
            ],
            "text/plain": [
              "   rownames         make  price  mpg  rep78  headroom  trunk  weight  length  \\\n",
              "0         1  AMC Concord   4099   22    3.0       2.5     11    2930     186   \n",
              "1         2    AMC Pacer   4749   17    3.0       3.0     11    3350     173   \n",
              "2         3   AMC Spirit   3799   22    NaN       3.0     12    2640     168   \n",
              "\n",
              "   turn  displacement  gear_ratio  foreign  \n",
              "0    40           121        3.58        0  \n",
              "1    40           258        2.53        0  \n",
              "2    35           121        3.08        0  "
            ]
          },
          "execution_count": 333,
          "metadata": {},
          "output_type": "execute_result"
        }
      ],
      "source": [
        "cars=pd.read_csv('https://vincentarelbundock.github.io/Rdatasets/csv/causaldata/auto.csv')\n",
        "cars.head(3)"
      ]
    },
    {
      "cell_type": "markdown",
      "metadata": {
        "id": "mSeErF12JHTf"
      },
      "source": [
        "The two columns we'll focus on are `displacement` and `mpg`. Let's take a look at them:"
      ]
    },
    {
      "cell_type": "code",
      "execution_count": 334,
      "metadata": {
        "id": "Bkziz6K08qRD"
      },
      "outputs": [
        {
          "data": {
            "text/plain": [
              "<matplotlib.collections.PathCollection at 0x12e8622d0>"
            ]
          },
          "execution_count": 334,
          "metadata": {},
          "output_type": "execute_result"
        },
        {
          "data": {
            "image/png": "[encoded data removed]",
            "text/plain": [
              "<Figure size 640x480 with 1 Axes>"
            ]
          },
          "metadata": {},
          "output_type": "display_data"
        }
      ],
      "source": [
        "plt.scatter(cars.displacement, cars.mpg)"
      ]
    },
    {
      "cell_type": "markdown",
      "metadata": {
        "id": "mWUSGVpwjBHf"
      },
      "source": [
        "The following function will take an array of features `x`, an array of targets `y`, a fraction `p`, and split them into `train` and `test` sets."
      ]
    },
    {
      "cell_type": "code",
      "execution_count": 335,
      "metadata": {
        "id": "r94dpl5N81H4"
      },
      "outputs": [],
      "source": [
        "def TrainTestSplit(x,y,p,seed=1):\n",
        "  '''Splits datasets x and y into train and test sets\n",
        "  p is the fraction going to train'''\n",
        "  np.random.seed(seed) #controls randomness\n",
        "  size=len(x)\n",
        "  train_size=int(p*size)\n",
        "  train_mask=np.zeros(size,dtype=bool)\n",
        "  train_indices=np.random.choice(size, train_size, replace=False)\n",
        "  train_mask[train_indices]=True\n",
        "  test_mask=~train_mask\n",
        "  x_train=x[train_mask]\n",
        "  x_test=x[test_mask]\n",
        "  y_train=y[train_mask]\n",
        "  y_test=y[test_mask]\n",
        "  return x_train,x_test,y_train,y_test"
      ]
    },
    {
      "cell_type": "markdown",
      "metadata": {
        "id": "glKhVt-cj43-"
      },
      "source": [
        "Let's apply this to the `displacement` and `mpg` columns of the `cars` dataset, and then view the resulting train and test sets."
      ]
    },
    {
      "cell_type": "code",
      "execution_count": 336,
      "metadata": {
        "id": "gmwt9IxJXsiq"
      },
      "outputs": [
        {
          "data": {
            "text/plain": [
              "<matplotlib.collections.PathCollection at 0x12e8de110>"
            ]
          },
          "execution_count": 336,
          "metadata": {},
          "output_type": "execute_result"
        },
        {
          "data": {
            "image/png": "[encoded data removed]",
            "text/plain": [
              "<Figure size 640x480 with 1 Axes>"
            ]
          },
          "metadata": {},
          "output_type": "display_data"
        }
      ],
      "source": [
        "x_train,x_test,y_train,y_test=TrainTestSplit(cars.displacement,cars.mpg,0.75)\n",
        "plt.scatter(x_train,y_train)\n",
        "plt.scatter(x_test,y_test,color='r')"
      ]
    },
    {
      "cell_type": "markdown",
      "metadata": {
        "id": "WhNfnqGMka5A"
      },
      "source": [
        "Eventully, we will use gradient descent to build a polynomial model of a data set of degree d. To this end, we will need a helper function to take an array `x` and create a feature matrix of shape `(len(x),d+1)`, whose `i`th column is the array `x**i`."
      ]
    },
    {
      "cell_type": "code",
      "execution_count": 337,
      "metadata": {
        "id": "vx-W3t95k2lL"
      },
      "outputs": [],
      "source": [
        "def PolyFeatures(x,d):\n",
        "  X=np.zeros((len(x),d+1))\n",
        "  for i in range(d+1):\n",
        "    X[:,i]=x**i\n",
        "  return X"
      ]
    },
    {
      "cell_type": "markdown",
      "metadata": {
        "id": "3cay2RHblRkS"
      },
      "source": [
        "Next, we'll need a functions that `scale` and `unscale` data. It's best to do this as methods associated with a class, so that scaling can be determined by one dataset but applied to another."
      ]
    },
    {
      "cell_type": "code",
      "execution_count": 338,
      "metadata": {
        "id": "hHOr_El8l5Zy"
      },
      "outputs": [],
      "source": [
        "class Scaler:\n",
        "  def __init__(self,z):\n",
        "    self.min=np.min(z)\n",
        "    self.max=np.max(z)\n",
        "\n",
        "  def scale(self,x):\n",
        "    return (x-self.min)/(self.max-self.min)\n",
        "\n",
        "  def unscale(self,x):\n",
        "    return x*(self.max-self.min)+self.min"
      ]
    },
    {
      "cell_type": "markdown",
      "metadata": {
        "id": "yuRfuXdSmVDW"
      },
      "source": [
        "We can now create objects of this class that will govern how scaling and unscaling work in the x and y directions:"
      ]
    },
    {
      "cell_type": "code",
      "execution_count": 339,
      "metadata": {
        "id": "qfmMuATzmgLL"
      },
      "outputs": [],
      "source": [
        "xscaler=Scaler(x_train)\n",
        "yscaler=Scaler(y_train)"
      ]
    },
    {
      "cell_type": "markdown",
      "metadata": {
        "id": "PhQSCoC_nEc7"
      },
      "source": [
        "Try these out by uncommenting and running some of the code below. Can you tell what they do?"
      ]
    },
    {
      "cell_type": "code",
      "execution_count": 340,
      "metadata": {
        "id": "kLoKAOZOnPdI"
      },
      "outputs": [
        {
          "data": {
            "text/plain": [
              "1     17.0\n",
              "5     18.0\n",
              "6     26.0\n",
              "9     19.0\n",
              "11    14.0\n",
              "12    21.0\n",
              "16    22.0\n",
              "18    19.0\n",
              "20    18.0\n",
              "25    12.0\n",
              "28    22.0\n",
              "29    14.0\n",
              "37    18.0\n",
              "42    34.0\n",
              "50    19.0\n",
              "62    30.0\n",
              "63    14.0\n",
              "64    26.0\n",
              "73    17.0\n",
              "Name: mpg, dtype: float64"
            ]
          },
          "execution_count": 340,
          "metadata": {},
          "output_type": "execute_result"
        }
      ],
      "source": [
        "xscaler.scale(x_train)\n",
        "xscaler.scale(x_test)\n",
        "yscaler.unscale(yscaler.scale(y_test))"
      ]
    },
    {
      "cell_type": "markdown",
      "metadata": {
        "id": "oq7KIFg3nosP"
      },
      "source": [
        "Our next task is to write a function that determines the coefficients of a linear model with feature matrix `X` and target `y`. The model will be defined by an array of coefficients, one for each column in `X`."
      ]
    },
    {
      "cell_type": "code",
      "execution_count": 341,
      "metadata": {
        "id": "ZNGbWZXKmkgj"
      },
      "outputs": [],
      "source": [
        "def train(X,y,max_iter,lr):\n",
        "  coeff=np.ones(X.shape[1])\n",
        "  for i in range(max_iter):\n",
        "    resid=X@coeff-y\n",
        "    gradient=2*((X.T)@resid)\n",
        "    coeff=coeff-lr*gradient #Here's the Gradient Descent!\n",
        "  return coeff"
      ]
    },
    {
      "cell_type": "markdown",
      "metadata": {
        "id": "s2vMjZiGorPW"
      },
      "source": [
        "Next, let's create a prediction function which takes a feature matrix `X` and a model determined by coefficients `coeff` and makes predictions:"
      ]
    },
    {
      "cell_type": "code",
      "execution_count": 342,
      "metadata": {
        "id": "Z08yLIcmUDoV"
      },
      "outputs": [],
      "source": [
        "def predict(X,coeff):\n",
        "  return X@coeff"
      ]
    },
    {
      "cell_type": "markdown",
      "metadata": {
        "id": "FlZu1SG6wEWj"
      },
      "source": [
        "Let's put everything together and see it in action! The code below trains a degree 5 polynomial model on x_train, y_train, and uses it to make predictions on x_test. Then, we plot the resulting curve, together with the train and test datasets."
      ]
    },
    {
      "cell_type": "code",
      "execution_count": 343,
      "metadata": {
        "id": "IGtQn7VFddAu"
      },
      "outputs": [
        {
          "data": {
            "text/plain": [
              "[<matplotlib.lines.Line2D at 0x12e94e650>]"
            ]
          },
          "execution_count": 343,
          "metadata": {},
          "output_type": "execute_result"
        },
        {
          "data": {
            "image/png": "[encoded data removed]",
            "text/plain": [
              "<Figure size 640x480 with 1 Axes>"
            ]
          },
          "metadata": {},
          "output_type": "display_data"
        }
      ],
      "source": [
        "x_train_scaled=xscaler.scale(x_train) #scale train feature\n",
        "y_train_scaled=yscaler.scale(y_train) #scale train target\n",
        "X_train=PolyFeatures(x_train_scaled,5) #create deg 5 feature matrix for training\n",
        "coeff=train(X_train,y_train_scaled,10000,0.01) #generate coefficients of model\n",
        "x_test_scaled=xscaler.scale(x_test.sort_values()) #scale x_test (sort_values is only necessary for plotting later)\n",
        "X_test=PolyFeatures(x_test_scaled,5) #create deg 5 feature matrix\n",
        "pred_scaled=predict(X_test,coeff) #generate scaled predictions\n",
        "pred=yscaler.unscale(pred_scaled) #unscale to create predictions\n",
        "plt.scatter(x_train,y_train) #plot train data\n",
        "plt.scatter(x_test,y_test,color='r') #plot test data\n",
        "plt.plot(x_test.sort_values(),pred,'-r') #plot model, connect the dots"
      ]
    },
    {
      "cell_type": "markdown",
      "metadata": {
        "id": "ghagu5NBpPD3"
      },
      "source": [
        "Finally, we put this all into a function to generate the MSE for the test set, for different values of max_iter, learning rate, and degree."
      ]
    },
    {
      "cell_type": "code",
      "execution_count": 344,
      "metadata": {
        "id": "WY25bP8FpODi"
      },
      "outputs": [],
      "source": [
        "def PolyScalePredictTest(max_iter,lr,d):\n",
        "  x_train_scaled=xscaler.scale(x_train) #scale train feature\n",
        "  y_train_scaled=yscaler.scale(y_train) #scale train target\n",
        "  X_train=PolyFeatures(x_train_scaled,d) #create deg d feature matrix for training\n",
        "  coeff=train(X_train,y_train_scaled,max_iter,lr) #generate coefficients of model\n",
        "  x_test_scaled=xscaler.scale(x_test) #scale test feature\n",
        "  X_test=PolyFeatures(x_test_scaled,d) #create deg d feature matrix for testing\n",
        "  pred_scaled=predict(X_test,coeff) #generate scaled predictions for test features\n",
        "  pred=yscaler.unscale(pred_scaled) #unscale to create predictions\n",
        "  MSE=np.sum((pred-y_test)**2)/len(y_test) #compute MSE\n",
        "  return MSE"
      ]
    },
    {
      "cell_type": "markdown",
      "metadata": {
        "id": "NTTe68y4zMWu"
      },
      "source": [
        "Now run this code to generate a list of MSE's for different degree models:"
      ]
    },
    {
      "cell_type": "code",
      "execution_count": 345,
      "metadata": {
        "id": "hWMj60DVxbsj"
      },
      "outputs": [
        {
          "data": {
            "text/plain": [
              "[18.41871274649611,\n",
              " 16.128655387350417,\n",
              " 13.581353377567783,\n",
              " 12.991604621736052,\n",
              " 13.254988115376417,\n",
              " 13.357806234258186,\n",
              " 13.290761780843301]"
            ]
          },
          "execution_count": 345,
          "metadata": {},
          "output_type": "execute_result"
        }
      ],
      "source": [
        "[PolyScalePredictTest(10000,0.01,d) for d in range(1,8)]"
      ]
    },
    {
      "cell_type": "markdown",
      "metadata": {
        "id": "MeE9dS4dbfVf"
      },
      "source": [
        "You should see that the fourth element in the list is the smallest MSE, indicating that a degree 4 polymial fits the test data best. Lower degree polynomials won't be as good, and higher degree polynomials will be overfit."
      ]
    },
    {
      "cell_type": "markdown",
      "metadata": {
        "id": "nknabwy6fNGt"
      },
      "source": [
        "---\n",
        "**Assignment**\n",
        "\n",
        "Your assignment is to create a *linear* (not polynomial) model of the mpg column of the cars dataset, based on the displacement, weight, and gear ratio columns. That is, you will create a model of the form\n",
        "\n",
        "$$mpg \\sim a (displacement)+ b(weight) +c(gear\\_ratio) +d$$\n",
        "\n",
        "Most of the functions above can be used as-is. Be careful! Each column of your feature matrix will have to be scaled differently before running the `train()` function on it.\n",
        "\n",
        "When you do the train/test split, use `p=0.75` and don't change the default value of seed. Train your model using `max_iter=10000` and `lr=0.01`. Finally, make predictions based on the test set, and report your MSE."
      ]
    },
    {
      "cell_type": "code",
      "execution_count": 346,
      "metadata": {},
      "outputs": [],
      "source": [
        "ROW = 0\n",
        "COLUMN = 1"
      ]
    },
    {
      "cell_type": "code",
      "execution_count": 347,
      "metadata": {
        "id": "a55q7SghKlIg"
      },
      "outputs": [],
      "source": [
        "X=np.array(cars[['displacement','weight','gear_ratio']])\n",
        "X = np.append(X, np.ones((X.shape[0], 1)), axis = COLUMN)\n",
        "y=cars.mpg"
      ]
    },
    {
      "cell_type": "code",
      "execution_count": 348,
      "metadata": {
        "id": "wW0oV_XUKk_s"
      },
      "outputs": [],
      "source": [
        "X_train,X_test,y_train,y_test=TrainTestSplit(X,y,0.75)"
      ]
    },
    {
      "cell_type": "code",
      "execution_count": 349,
      "metadata": {
        "id": "Y3WYlE5tKk33"
      },
      "outputs": [],
      "source": [
        "X_train_scaled = xscaler.scale(X_train[:, :-1])\n",
        "X_train_scaled = np.append(X_train_scaled, np.ones((X_train_scaled.shape[0], 1)), axis = COLUMN)\n",
        "\n",
        "X_test_scaled = xscaler.scale(X_test[:, :-1])\n",
        "X_test_scaled = np.append(X_test_scaled, np.ones((X_test_scaled.shape[0], 1)), axis = COLUMN)"
      ]
    },
    {
      "cell_type": "code",
      "execution_count": 350,
      "metadata": {
        "id": "1iTcVGAMLaqU"
      },
      "outputs": [],
      "source": [
        "y_train_scaled=yscaler.scale(y_train)"
      ]
    },
    {
      "cell_type": "code",
      "execution_count": 351,
      "metadata": {
        "id": "_w69LcztKkwR"
      },
      "outputs": [
        {
          "name": "stderr",
          "output_type": "stream",
          "text": [
            "/var/folders/pc/1h9xlpvd7rd5xtvc_7rkfznr0000gn/T/ipykernel_18480/2695862374.py:6: RuntimeWarning: invalid value encountered in subtract\n",
            "  coeff=coeff-lr*gradient #Here's the Gradient Descent!\n"
          ]
        }
      ],
      "source": [
        "max_iter = 10000\n",
        "lr = 0.01\n",
        "coeff=train(X_train_scaled,y_train_scaled,max_iter,lr)"
      ]
    },
    {
      "cell_type": "code",
      "execution_count": 352,
      "metadata": {
        "id": "uesyfSIsKknM"
      },
      "outputs": [],
      "source": [
        "pred_scaled=predict(X_test_scaled,coeff)"
      ]
    },
    {
      "cell_type": "code",
      "execution_count": 353,
      "metadata": {
        "id": "tkIn-Yi-LE2Q"
      },
      "outputs": [],
      "source": [
        "pred=yscaler.unscale(pred_scaled)"
      ]
    },
    {
      "cell_type": "code",
      "execution_count": 354,
      "metadata": {
        "id": "C5QqyY-5kqCh"
      },
      "outputs": [],
      "source": [
        "MSE=np.sum((pred-y_test)**2)/len(y_test)"
      ]
    }
  ],
  "metadata": {
    "colab": {
      "provenance": []
    },
    "kernelspec": {
      "display_name": "Python 3",
      "name": "python3"
    },
    "language_info": {
      "codemirror_mode": {
        "name": "ipython",
        "version": 3
      },
      "file_extension": ".py",
      "mimetype": "text/x-python",
      "name": "python",
      "nbconvert_exporter": "python",
      "pygments_lexer": "ipython3",
      "version": "3.11.3"
    }
  },
  "nbformat": 4,
  "nbformat_minor": 0
}
