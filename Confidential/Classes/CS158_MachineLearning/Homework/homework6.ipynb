{
  "cells": [
    {
      "cell_type": "markdown",
      "metadata": {
        "id": "umOGtyvwIkHc"
      },
      "source": [
        "**Homework 6**\n"
      ]
    },
    {
      "cell_type": "code",
      "execution_count": 87,
      "metadata": {
        "id": "XpvEjDuYFCyT"
      },
      "outputs": [],
      "source": [
        "import pandas as pd\n",
        "import numpy as np\n",
        "\n",
        "import ssl\n",
        "ssl._create_default_https_context = ssl._create_unverified_context"
      ]
    },
    {
      "cell_type": "markdown",
      "metadata": {
        "id": "RS-AZd9pm_Tz"
      },
      "source": [
        "*Problem 1.*\n",
        "\n",
        "Let $f(x,y)=x^2+2xy+2y^2-4x-4y$.\n",
        "\n",
        "Calculate  $\\nabla f(x,y)$, the gradient of $f(x,y)$ on paper. (No need to turn this in, but you'll need it for the next parts of the problem.) In this problem you will use the gradient to find the minimum of $f(x,y)$. Do this first on paper by setting the gradient equal to $\\langle 0,0 \\rangle$ and solving for $x$ and $y$, so you can check that gradient descent is giving you the right answer.\n"
      ]
    },
    {
      "cell_type": "markdown",
      "metadata": {
        "id": "umsYAkZmvVBR"
      },
      "source": [
        "Next, write a function fGD which implements gradient descent to find the minimum of $f(x,y)$. Your function should take in the following parameters:\n",
        "* `lr` (learning rate)\n",
        "* `max_iter` (maximum number of iterations)\n",
        "* `x_init` (initial value of x)\n",
        "* `y_init` (initial value of y)\n",
        "\n",
        "Your function should return the final values of x and y"
      ]
    },
    {
      "cell_type": "code",
      "execution_count": 88,
      "metadata": {
        "id": "cEKOmSpauW1B"
      },
      "outputs": [],
      "source": [
        "def fGD(lr,max_iter,x_init,y_init):\n",
        "  x = x_init\n",
        "  y = y_init\n",
        "  \n",
        "  for i in range(max_iter):\n",
        "    gradient = (2*x + 2*y - 4, 2*x + 4*y - 4)\n",
        "    x = x - lr * gradient[0]\n",
        "    y = y - lr * gradient[1]\n",
        "\n",
        "  return x,y"
      ]
    },
    {
      "cell_type": "markdown",
      "metadata": {
        "id": "zYdzKXo_AdlG"
      },
      "source": [
        "Now run this to check you answer. Is it what you expect?"
      ]
    },
    {
      "cell_type": "code",
      "execution_count": 89,
      "metadata": {
        "id": "0Zbn9zJjveXE"
      },
      "outputs": [
        {
          "data": {
            "text/plain": [
              "(1.9858947847209645, 0.045139149713967715)"
            ]
          },
          "execution_count": 89,
          "metadata": {},
          "output_type": "execute_result"
        }
      ],
      "source": [
        "fGD(0.0001,10000,5,5)"
      ]
    },
    {
      "cell_type": "markdown",
      "metadata": {
        "id": "wMcg2Z8uyu3Y"
      },
      "source": [
        "*Problem 2*\n",
        "\n",
        "Write a function GD which implements gradient descent to find the slope `m` and intercept `b` for a linear model relating a numpy array y to a numpy array x.\n",
        "\n",
        "Your function should take in the following parameters:\n",
        "* x (A numpy array of values)\n",
        "* y (The target numpy array of values)\n",
        "* `lr` (learning rate)\n",
        "* `max_iter` (maximum number of iterations)\n",
        "* `m_init` (initial slope)\n",
        "* `b_init` (initial intercept)\n",
        "\n",
        "Your function should return the slope and intercept found by gradient descent."
      ]
    },
    {
      "cell_type": "code",
      "execution_count": 90,
      "metadata": {
        "id": "kq4aa92N9IHy"
      },
      "outputs": [],
      "source": [
        "def GD(x,y,lr,max_iter,m_init,b_init):\n",
        "  m = m_init\n",
        "  b = b_init\n",
        "  n = len(x) \n",
        "  \n",
        "  for iteration in range(max_iter):\n",
        "      y_pred = m * x + b\n",
        "      \n",
        "      dm = (-2/n) * np.sum(x * (y - y_pred))\n",
        "      db = (-2/n) * np.sum(y - y_pred)      \n",
        "      \n",
        "      m -= lr * dm\n",
        "      b -= lr * db\n",
        "      \n",
        "  return m, b"
      ]
    },
    {
      "cell_type": "markdown",
      "metadata": {
        "id": "Fr5dUFRiFFNR"
      },
      "source": [
        "You can test your code here. Is the result close to what you would expect?"
      ]
    },
    {
      "cell_type": "code",
      "execution_count": 91,
      "metadata": {
        "id": "qQiQErqKFM3H"
      },
      "outputs": [
        {
          "data": {
            "text/plain": [
              "(3.0602056152941235, 1.6224755210310373)"
            ]
          },
          "execution_count": 91,
          "metadata": {},
          "output_type": "execute_result"
        }
      ],
      "source": [
        "x=np.arange(10)\n",
        "y=3*x+2\n",
        "GD(x,y,.001,1000,1,1)"
      ]
    },
    {
      "cell_type": "markdown",
      "metadata": {
        "id": "WsRtlWbw37tP"
      },
      "source": [
        "Problem 3.\n",
        "\n",
        "Recall the speed vs distance modification of the `flights` dataset we created in Homework 5:"
      ]
    },
    {
      "cell_type": "code",
      "execution_count": 92,
      "metadata": {
        "id": "yQGriOppA32Z"
      },
      "outputs": [],
      "source": [
        "flights=pd.read_csv(\"https://vincentarelbundock.github.io/Rdatasets/csv/nycflights13/flights.csv\")\n",
        "flights=(\n",
        "    flights[['tailnum','distance','air_time']][pd.notna(flights['air_time'])].\n",
        "    assign(speed=lambda x:60*x.distance/x.air_time).\n",
        "    groupby('tailnum').\n",
        "    agg('mean').\n",
        "    sort_values('distance',ascending=False)[32:]\n",
        ")"
      ]
    },
    {
      "cell_type": "markdown",
      "metadata": {
        "id": "iwXDaWM-F6zu"
      },
      "source": [
        "To make things a little easier, we'll define separate `distance` and `speed` arrays:"
      ]
    },
    {
      "cell_type": "code",
      "execution_count": 93,
      "metadata": {
        "id": "bqkI_VYrGCH-"
      },
      "outputs": [],
      "source": [
        "distance=np.array(flights.distance)\n",
        "speed=np.array(flights.speed)"
      ]
    },
    {
      "cell_type": "markdown",
      "metadata": {
        "id": "AQNgb1oT4a0T"
      },
      "source": [
        "In Homework 5 you created a linear model of `speed` vs `distance` using the normal equations, and should have ended up with an RSS of about 1843267. The normal equations guarantee that this is the best possible, but for larger datasets they can be very slow to implement.\n",
        "\n",
        "In this problem you will do this again using the GD function defined in the previous problem. Unfortunately, just applying this to x=distance and y=speed may not work, since distance and speed are on such different scales. To compensate, first write a function with inputs x, y, lr, max_iter, m_init, and b_init that does the following:\n",
        "\n",
        "1. Rescales the input values of x and y to obtain arrays of values x_scaled and y_scaled between 0 and 1\n",
        "2. Calls GD on x_scaled, y_scaled, lr, max_iter, m_init, and b_init\n",
        "3. Uses the resulting slope and intercept to find values pred_scaled from x_scaled\n",
        "4. Returns re-scaled values of pred_scaled so that the resulting array is a linear approximation of y.\n"
      ]
    },
    {
      "cell_type": "code",
      "execution_count": 94,
      "metadata": {},
      "outputs": [],
      "source": [
        "def PredictWithRescaling(x,y,lr,max_iter,m_init,b_init):\n",
        "  scaled_x = x / (max(x) - min(x))\n",
        "  scaled_y = y / (max(y) - min(y))\n",
        "  \n",
        "  m, b = GD(scaled_x, scaled_y, lr, max_iter, m_init, b_init)\n",
        "  pred_scaled = m * scaled_x + b\n",
        "  \n",
        "  predictions = pred_scaled * (max(y) - min(y))\n",
        "\n",
        "  return predictions"
      ]
    },
    {
      "cell_type": "markdown",
      "metadata": {
        "id": "kyLC9W8E1wQu"
      },
      "source": [
        "The following code block uses your PredictWithRescaling function to create predictions based on `distance` and `speed` with a learning rate of 0.0001 and just 100 iterations. How close does it get to the minimum possible RSS? What if you change this to 200 iterations?"
      ]
    },
    {
      "cell_type": "code",
      "execution_count": 95,
      "metadata": {
        "id": "RXIi0o901oNb"
      },
      "outputs": [
        {
          "data": {
            "text/plain": [
              "39673126538.91808"
            ]
          },
          "execution_count": 95,
          "metadata": {},
          "output_type": "execute_result"
        }
      ],
      "source": [
        "pred=PredictWithRescaling(distance,speed,0.0001,200,1,1)\n",
        "RSS=np.sum((speed-pred)**2)\n",
        "RSS"
      ]
    }
  ],
  "metadata": {
    "colab": {
      "provenance": []
    },
    "kernelspec": {
      "display_name": "Python 3",
      "name": "python3"
    },
    "language_info": {
      "codemirror_mode": {
        "name": "ipython",
        "version": 3
      },
      "file_extension": ".py",
      "mimetype": "text/x-python",
      "name": "python",
      "nbconvert_exporter": "python",
      "pygments_lexer": "ipython3",
      "version": "3.11.3"
    }
  },
  "nbformat": 4,
  "nbformat_minor": 0
}
