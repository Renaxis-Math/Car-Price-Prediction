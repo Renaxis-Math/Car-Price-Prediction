{
  "cells": [
    {
      "cell_type": "markdown",
      "metadata": {
        "id": "G8OReEGoBUyY"
      },
      "source": [
        "**Homework 3**"
      ]
    },
    {
      "cell_type": "markdown",
      "metadata": {
        "id": "BxOCrr74BYky"
      },
      "source": [
        "This assignment is a continuation of homework 2. Make sure you complete that first!.\n",
        "\n",
        "We begin with the usual imports."
      ]
    },
    {
      "cell_type": "code",
      "execution_count": 309,
      "metadata": {
        "id": "nyeQSz7hP6MN"
      },
      "outputs": [],
      "source": [
        "import numpy as np\n",
        "import pandas as pd\n",
        "\n",
        "import ssl\n",
        "ssl._create_default_https_context = ssl._create_unverified_context"
      ]
    },
    {
      "cell_type": "markdown",
      "metadata": {
        "id": "ENoFBgC2Bcvt"
      },
      "source": [
        "Now load the iris dataset."
      ]
    },
    {
      "cell_type": "code",
      "execution_count": 310,
      "metadata": {
        "id": "5pStLgrIQCQu"
      },
      "outputs": [],
      "source": [
        "iris = pd.read_csv(\"https://vincentarelbundock.github.io/Rdatasets/csv/datasets/iris.csv\",index_col=0)"
      ]
    },
    {
      "cell_type": "markdown",
      "metadata": {
        "id": "GBdJliDCOEIV"
      },
      "source": [
        "In the code block below copy your code from homework 2 that defines the function `KNN`, together with all of the helper functions."
      ]
    },
    {
      "cell_type": "code",
      "execution_count": 311,
      "metadata": {
        "id": "ftP1j3YeOV8J"
      },
      "outputs": [],
      "source": [
        "def sq_distances(data, length, width):\n",
        "  return pd.Series(np.linalg.norm(data - (length, width), axis=1))\n",
        "\n",
        "def SpeciesOfNeighbors(data, target, x, y, k):\n",
        "  distances = sq_distances(data, x, y)\n",
        "  distances_species_df = pd.concat([target, distances], axis=1, keys=['Species', 'Distance']).sort_values('Distance')\n",
        "\n",
        "  return distances_species_df['Species'][:k]\n",
        "\n",
        "def prediction(labels):\n",
        "  return labels.value_counts().idxmax()\n",
        "\n",
        "def KNN(data, target, x, y, k):\n",
        "  nearest_labels = SpeciesOfNeighbors(data, target, x, y, k)\n",
        "  return prediction(nearest_labels)"
      ]
    },
    {
      "cell_type": "markdown",
      "metadata": {
        "id": "Z74yJjWgBmx6"
      },
      "source": [
        "The iris dataset contains 150 observations. We'd like to set aside 20% of these for testing the accuracy of our model(s). In the code block below, we create a Numpy array `test_indices` with a random sample of 20% of the numbers from 0 to 149. Then, we create a boolean Numpy array with a value of True for each index listed in `test_indices`, and False for the other values. Finally, we create a boolean Numpy array `train_mask` with the negation of each entry in `test_mask`. Spend some time examining the commands in the code block to make sure you understand them."
      ]
    },
    {
      "cell_type": "code",
      "execution_count": 312,
      "metadata": {
        "id": "5flT2IxHCFIp"
      },
      "outputs": [],
      "source": [
        "np.random.seed(6) #controls randomness. Do not change!\n",
        "size=len(iris)  #size of original dataset (should be 150 for iris)\n",
        "test_frac=0.2 #fraction of dataset to set aside for testing\n",
        "test_size=int(size*test_frac) #desired size of test dataset\n",
        "test_indices=np.random.choice(np.arange(size),test_size) #random sample of indices from iris\n",
        "test_mask=np.zeros(size,dtype=bool) #numpy array of False values\n",
        "test_mask[test_indices]=True #change values at desired indices to True\n",
        "train_mask=~test_mask #True->False, False->True"
      ]
    },
    {
      "cell_type": "markdown",
      "metadata": {
        "id": "NFTIGfRwFqfM"
      },
      "source": [
        "Define `test_data` to be a DataFrame containing the `Petal.Length` and `Petal.Width` of the rows specified by `test_mask`. Define `test_target` to be a Pandas Series containing the `Species` of those rows. Define `train_data` and `train_target` similarly."
      ]
    },
    {
      "cell_type": "code",
      "execution_count": 313,
      "metadata": {},
      "outputs": [],
      "source": [
        "iris['train_mask'] = train_mask\n",
        "iris['test_mask'] = test_mask"
      ]
    },
    {
      "cell_type": "code",
      "execution_count": 314,
      "metadata": {
        "id": "IGRadmhsE25D"
      },
      "outputs": [],
      "source": [
        "train_data = iris[(iris[\"train_mask\"] == True)][[\"Petal.Length\", \"Petal.Width\"]].reset_index(drop=True)"
      ]
    },
    {
      "cell_type": "code",
      "execution_count": 315,
      "metadata": {},
      "outputs": [],
      "source": [
        "train_target = iris[(iris[\"train_mask\"] == True)][\"Species\"].reset_index(drop=True)"
      ]
    },
    {
      "cell_type": "code",
      "execution_count": 316,
      "metadata": {},
      "outputs": [],
      "source": [
        "test_data = iris[(iris[\"test_mask\"] == True)][[\"Petal.Length\", \"Petal.Width\"]].reset_index(drop=True)"
      ]
    },
    {
      "cell_type": "code",
      "execution_count": 317,
      "metadata": {},
      "outputs": [],
      "source": [
        "test_target = iris[(iris[\"test_mask\"] == True)][\"Species\"].reset_index(drop=True)"
      ]
    },
    {
      "cell_type": "markdown",
      "metadata": {
        "id": "N12LgAjPvPvv"
      },
      "source": [
        "Define a function called `predict_labels` whose inputs are `train_data`, `train_target`, `test_data` and `k`. Your function should output a Series of labels (one for each entry in `test_data`) that are predicted by your KNN function, based on the k-closest points in train_data.\n",
        "\n",
        "*Hints.* There are many ways to do this. Here are two possibilities:\n",
        "1. Use the Pandas command `apply` and a lambda function. (strongly preferred)\n",
        "2. Use a \"for loop\", collect your answers in a list, and then convert to a Pandas Series object."
      ]
    },
    {
      "cell_type": "code",
      "execution_count": 318,
      "metadata": {
        "id": "ISuM05KzwV1v"
      },
      "outputs": [],
      "source": [
        "def predict_labels(train_data,train_target,test_data,k):\n",
        "  answers = []\n",
        "  n_row = test_data.shape[0]\n",
        "  \n",
        "  for ri in range(n_row):\n",
        "    x, y = test_data.iloc[ri, 0], test_data.iloc[ri, 1]\n",
        "    label = KNN(train_data, train_target, x, y, k)\n",
        "    answers.append(label)\n",
        "    \n",
        "  return answers"
      ]
    },
    {
      "cell_type": "markdown",
      "metadata": {
        "id": "iSyTNqCMxrGk"
      },
      "source": [
        "Define a function called `accuracy` whose inputs are `train_data`, `train_target`, `test_data`, `test_target` and `k`. Your function should return the accuracy: the fraction of times your `predict_labels` function returned the correct answer."
      ]
    },
    {
      "cell_type": "code",
      "execution_count": 319,
      "metadata": {
        "id": "z5vca56CVZqz"
      },
      "outputs": [],
      "source": [
        "def accuracy(train_data,train_target,test_data,test_target,k):\n",
        "  predictedLabels = predict_labels(train_data,train_target,test_data,k)\n",
        "  answer = 0\n",
        "  for i, label in enumerate(predictedLabels):\n",
        "    answer += (label == test_target[i])\n",
        "  return answer / len(predictedLabels)"
      ]
    },
    {
      "cell_type": "markdown",
      "metadata": {
        "id": "fsg8NrNU0Z53"
      },
      "source": [
        "Our goal is to visualize the accuracy of our KNN algorithm for various values of k, so we may pick the best one. Reasonable values of k start at 3, and may go as high as 20 (depending on the application). For each such value of k, compute the accuracy and assemble these in a 1D Numpy array."
      ]
    },
    {
      "cell_type": "code",
      "execution_count": 320,
      "metadata": {
        "id": "bFk975Zms6nl"
      },
      "outputs": [],
      "source": [
        "k_values=np.arange(3,20) #possible values for k\n",
        "accuracies = []\n",
        "for k in k_values:\n",
        "    accuracy_rate = accuracy(train_data,train_target,test_data,test_target,k)\n",
        "    accuracies.append(accuracy_rate)"
      ]
    },
    {
      "cell_type": "markdown",
      "metadata": {
        "id": "7VcxngjC19Pt"
      },
      "source": [
        "Run the following code block to visualize:"
      ]
    },
    {
      "cell_type": "code",
      "execution_count": 321,
      "metadata": {
        "id": "5H_tVLXWtBUC"
      },
      "outputs": [
        {
          "data": {
            "text/plain": [
              "[<matplotlib.lines.Line2D at 0x159a431d0>]"
            ]
          },
          "execution_count": 321,
          "metadata": {},
          "output_type": "execute_result"
        },
        {
          "data": {
            "image/png": "[encoded data removed]",
            "text/plain": [
              "<Figure size 640x480 with 1 Axes>"
            ]
          },
          "metadata": {},
          "output_type": "display_data"
        }
      ],
      "source": [
        "import matplotlib.pyplot as plt\n",
        "plt.plot(k_values,accuracies)"
      ]
    },
    {
      "cell_type": "markdown",
      "metadata": {
        "id": "JxPJWw43z8ZG"
      },
      "source": [
        "The optimal value of k will be the first odd number appearing at a maximum (think about why). What is it?"
      ]
    },
    {
      "cell_type": "code",
      "execution_count": 322,
      "metadata": {
        "id": "InnWAMB_tUBb"
      },
      "outputs": [],
      "source": [
        "# Reset label to 0 but k starts at 1\n",
        "k = k_values[np.argmax(accuracies) + 1]"
      ]
    }
  ],
  "metadata": {
    "colab": {
      "provenance": []
    },
    "kernelspec": {
      "display_name": "Python 3",
      "name": "python3"
    },
    "language_info": {
      "codemirror_mode": {
        "name": "ipython",
        "version": 3
      },
      "file_extension": ".py",
      "mimetype": "text/x-python",
      "name": "python",
      "nbconvert_exporter": "python",
      "pygments_lexer": "ipython3",
      "version": "3.11.3"
    }
  },
  "nbformat": 4,
  "nbformat_minor": 0
}
