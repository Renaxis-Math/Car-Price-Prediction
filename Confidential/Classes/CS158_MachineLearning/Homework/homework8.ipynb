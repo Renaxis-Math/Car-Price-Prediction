{
  "cells": [
    {
      "cell_type": "markdown",
      "metadata": {
        "id": "umOGtyvwIkHc"
      },
      "source": [
        "**Homework 8**\n",
        "\n",
        "We begin with the imports you will need, together with the functions defined in the last assignment. Note that a few have been added/modified! The Scaler class now scales each column of a feature matrix individually. There have also been utility functions added to add a column of 1's to a feature matrix, and compute the MSE.\n",
        "\n",
        "Note that you won't use all functions below in all situations. For example, when doing polynomial regression, you won't need the AddOnes function. When doing linear regression with multiple features, you will."
      ]
    },
    {
      "cell_type": "code",
      "execution_count": 1,
      "metadata": {
        "id": "R9hRMTmLP8-m"
      },
      "outputs": [],
      "source": [
        "import numpy as np\n",
        "import pandas as pd\n",
        "\n",
        "def TrainTestSplit(X,y,p,seed=1):\n",
        "  '''Splits feature matrix X and target array y into train and test sets\n",
        "  p is the fraction going to train'''\n",
        "  np.random.seed(seed) #controls randomness\n",
        "  size=len(y)\n",
        "  train_size=int(p*size)\n",
        "  train_mask=np.zeros(size,dtype=bool)\n",
        "  train_indices=np.random.choice(size, train_size, replace=False)\n",
        "  train_mask[train_indices]=True\n",
        "  test_mask=~train_mask\n",
        "  X_train=X[train_mask]\n",
        "  X_test=X[test_mask]\n",
        "  y_train=y[train_mask]\n",
        "  y_test=y[test_mask]\n",
        "  return X_train,X_test,y_train,y_test\n",
        "\n",
        "def PolyFeatures(x,d):\n",
        "  X=np.zeros((len(x),d+1))\n",
        "  for i in range(d+1):\n",
        "    X[:,i]=x**i\n",
        "  return X\n",
        "\n",
        "def AddOnes(X):\n",
        "  return np.concatenate((X,np.ones((len(X),1))),axis=1)\n",
        "\n",
        "class Scaler:\n",
        "  '''scales columns of array individually'''\n",
        "  def __init__(self,z):\n",
        "    self.min=np.min(z,axis=0)\n",
        "    self.max=np.max(z,axis=0)\n",
        "\n",
        "  def scale(self,x):\n",
        "    return (x-self.min)/(self.max-self.min)\n",
        "\n",
        "  def unscale(self,x):\n",
        "    return x*(self.max-self.min)+self.min\n",
        "\n",
        "def train(X,y,max_iter,lr):\n",
        "  '''MSE minimization by Gradient Descent'''\n",
        "  X=np.array(X) #Just in case X is a DataFrame\n",
        "  y=np.array(y) #Just in case y is a Series\n",
        "  n=len(X)\n",
        "  coeff=np.ones(X.shape[1]) #Initialize all coeff to be 1 (something to play with?)\n",
        "  for i in range(max_iter):\n",
        "    resid=X@coeff-y\n",
        "    gradient=((X.T)@resid)/n #Lot's of lin alg here. Try to unpack it!\n",
        "    coeff=coeff-lr*gradient #Gradient Descent step.\n",
        "  return coeff\n",
        "\n",
        "def predict(X,coeff): #If X was scaled, then this will return scaled predictions\n",
        "  return X@coeff\n",
        "\n",
        "def MSE(pred,y):\n",
        "  return np.sum((pred-y)**2)/len(y)"
      ]
    },
    {
      "cell_type": "markdown",
      "metadata": {
        "id": "8BBHsp1N85jD"
      },
      "source": [
        "In this assignment you will modify the `train` function above to work by Stochastic Gradient Descent. As discussed in class, SGD is more memory efficient and can lead to much faster convergence.\n",
        "\n",
        "Be aware that if the batch size does not divide evenly into the size of your dataset, then the last batch will be smaller. Make sure your code doesn't leave out the last batch!"
      ]
    },
    {
      "cell_type": "code",
      "execution_count": 6,
      "metadata": {
        "id": "M6KciXi282N0"
      },
      "outputs": [],
      "source": [
        "def SGD(X,y,epochs,batch_size,lr):\n",
        "  '''Stochastic Gradient Descent'''\n",
        "  X=np.array(X) #Just in case X is a DataFrame\n",
        "  y=np.array(y) #Just in case y is a Series\n",
        "  n=len(X)\n",
        "  coeff=np.ones(X.shape[1]) #Initialize all coeff to be 1 (something to play with?)\n",
        "  indices=np.arange(len(X))\n",
        "  for i in range(epochs):\n",
        "    np.random.seed(i) #Just so everyone gets the same answer!\n",
        "    np.random.shuffle(indices)\n",
        "    \n",
        "    for start in range(0, n, batch_size):\n",
        "        end = min(start + batch_size, n)\n",
        "        batch_indices = indices[start:end]\n",
        "        X_batch = X[batch_indices]\n",
        "        y_batch = y[batch_indices]\n",
        "        \n",
        "        # # Calculate the gradient for this batch\n",
        "        # gradient = np.zeros(X.shape[1])\n",
        "        # for j in range(len(batch_indices)):\n",
        "        #     x_i = X_batch[j]\n",
        "        #     y_i = y_batch[j]\n",
        "        #     error = np.dot(coeff, x_i) - y_i\n",
        "        #     gradient += 2 * x_i * error\n",
        "            \n",
        "        # # Update coefficients using the learning rate and the gradient\n",
        "        # coeff -= lr * gradient / len(batch_indices)\n",
        "        \n",
        "        resid = X_batch@coeff-y_batch\n",
        "        gradient = ((X_batch.T)@resid) / (end - start + 1) #Lot's of lin alg here. Try to unpack it!\n",
        "        coeff = coeff - lr*gradient #Gradient Descent step.        \n",
        "    \n",
        "  return coeff"
      ]
    },
    {
      "cell_type": "markdown",
      "metadata": {
        "id": "X98ABC8sBJPC"
      },
      "source": [
        "To test your code, we'll define 100,000 points around the line y=3x. The coefficient generated by linear regression should thus be about 3."
      ]
    },
    {
      "cell_type": "code",
      "execution_count": 7,
      "metadata": {
        "id": "txmSzzHS9xjK"
      },
      "outputs": [],
      "source": [
        "x=np.arange(0,1,.00001) #100,000 numbers between 0 and 1\n",
        "np.random.seed(10) #Makes sure we all get the same answers!\n",
        "random_nums=.4*np.random.rand(100000)\n",
        "y=3*x+random_nums #Equation of y=3x, with some randomness\n",
        "X=x.reshape((len(x),1)) #Necessary so X is a 2D feature matrix, rather than a 1D array."
      ]
    },
    {
      "cell_type": "markdown",
      "metadata": {
        "id": "UCPWdqC9Bo7E"
      },
      "source": [
        "Here's our original `train` function:"
      ]
    },
    {
      "cell_type": "code",
      "execution_count": 8,
      "metadata": {
        "id": "8t290Oxh-cT1"
      },
      "outputs": [
        {
          "data": {
            "text/plain": [
              "array([3.21791934])"
            ]
          },
          "execution_count": 8,
          "metadata": {},
          "output_type": "execute_result"
        }
      ],
      "source": [
        "coeff=train(X,y,1000,.01)\n",
        "coeff"
      ]
    },
    {
      "cell_type": "markdown",
      "metadata": {
        "id": "sRfnCCFkBwaM"
      },
      "source": [
        "Now let's check your code, with 500 epochs and batches of size 1000. Recall that this means the computer has to keep only 1000 numbers in memory for computation at any given time, rather than all 100000."
      ]
    },
    {
      "cell_type": "code",
      "execution_count": 9,
      "metadata": {
        "id": "QkD1L-oJ-yI3"
      },
      "outputs": [
        {
          "data": {
            "text/plain": [
              "array([3.29945078])"
            ]
          },
          "execution_count": 9,
          "metadata": {},
          "output_type": "execute_result"
        }
      ],
      "source": [
        "coeff=SGD(X,y,500,1000,.01)\n",
        "coeff"
      ]
    }
  ],
  "metadata": {
    "colab": {
      "provenance": []
    },
    "gpuClass": "standard",
    "kernelspec": {
      "display_name": "Python 3",
      "name": "python3"
    },
    "language_info": {
      "codemirror_mode": {
        "name": "ipython",
        "version": 3
      },
      "file_extension": ".py",
      "mimetype": "text/x-python",
      "name": "python",
      "nbconvert_exporter": "python",
      "pygments_lexer": "ipython3",
      "version": "3.11.3"
    }
  },
  "nbformat": 4,
  "nbformat_minor": 0
}
