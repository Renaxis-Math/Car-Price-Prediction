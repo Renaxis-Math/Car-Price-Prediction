{
  "cells": [
    {
      "cell_type": "markdown",
      "metadata": {
        "id": "umOGtyvwIkHc"
      },
      "source": [
        "**Homework 9**\n",
        "\n",
        "We begin with the imports you will need, together with the functions defined in previous assignments."
      ]
    },
    {
      "cell_type": "code",
      "execution_count": 86,
      "metadata": {
        "id": "R9hRMTmLP8-m"
      },
      "outputs": [],
      "source": [
        "import numpy as np\n",
        "import pandas as pd\n",
        "import matplotlib.pyplot as plt\n",
        "\n",
        "def TrainTestSplit(X,y,p,seed=1):\n",
        "  '''Splits feature matrix X and target array y into train and test sets\n",
        "  p is the fraction going to train'''\n",
        "  np.random.seed(seed) #controls randomness\n",
        "  size=len(y)\n",
        "  train_size=int(p*size)\n",
        "  train_mask=np.zeros(size,dtype=bool)\n",
        "  train_indices=np.random.choice(size, train_size, replace=False)\n",
        "  train_mask[train_indices]=True\n",
        "  test_mask=~train_mask\n",
        "  X_train=X[train_mask]\n",
        "  X_test=X[test_mask]\n",
        "  y_train=y[train_mask]\n",
        "  y_test=y[test_mask]\n",
        "  return X_train,X_test,y_train,y_test\n",
        "\n",
        "def PolyFeatures(x,d):\n",
        "  X=np.zeros((len(x),d+1))\n",
        "  for i in range(d+1):\n",
        "    X[:,i]=x**i\n",
        "  return X\n",
        "\n",
        "def AddOnes(X):\n",
        "  return np.concatenate((X,np.ones((len(X),1))),axis=1)\n",
        "\n",
        "class Scaler:\n",
        "  def __init__(self,z):\n",
        "    self.min=np.min(z,axis=0)\n",
        "    self.max=np.max(z,axis=0)\n",
        "\n",
        "  def scale(self,x):\n",
        "    return (x-self.min)/(self.max-self.min)\n",
        "\n",
        "  def unscale(self,x):\n",
        "    return x*(self.max-self.min)+self.min\n",
        "\n",
        "def train(X,y,max_iter,lr):\n",
        "  '''MSE minimization by Gradient Descent'''\n",
        "  X=np.array(X) #Just in case X is a DataFrame\n",
        "  y=np.array(y) #Just in case y is a Series\n",
        "  n=len(X)\n",
        "  coeff=np.ones(X.shape[1]) #Initialize all coeff to be 1 (something to play with?)\n",
        "  for i in range(max_iter):\n",
        "    resid=X@coeff-y\n",
        "    gradient=((X.T)@resid)/n #Lot's of lin alg here. Try to unpack it!\n",
        "    coeff=coeff-lr*gradient #Gradient Descent step.\n",
        "  return coeff\n",
        "\n",
        "def SGD(X,y,epochs,batch_size,lr):\n",
        "  '''Stochastic Gradient Descent'''\n",
        "  X=np.array(X) #Just in case X is a DataFrame\n",
        "  y=np.array(y) #Just in case y is a Series\n",
        "  n=len(X)\n",
        "  coeff=np.ones(X.shape[1]) #Initialize all coeff to be 1 (something to play with?)\n",
        "  indices=np.arange(len(X))\n",
        "  for i in range(epochs):\n",
        "    np.random.seed(i) #Just so everyone gets the same answer!\n",
        "    np.random.shuffle(indices)\n",
        "    X_shuffle=X[indices]\n",
        "    y_shuffle=y[indices]\n",
        "    num_batches=n//batch_size\n",
        "    for j in range(num_batches):\n",
        "      X_batch=X_shuffle[j*batch_size:(j+1)*batch_size]\n",
        "      y_batch=y_shuffle[j*batch_size:(j+1)*batch_size]\n",
        "      resid=X_batch@coeff-y_batch\n",
        "      gradient=((X_batch.T)@resid)/len(X_batch) #Unpack this lin alg!\n",
        "      coeff=coeff-lr*gradient #Gradient Descent step.\n",
        "    if n%batch_size!=0: #Check if there is a smaller leftover batch\n",
        "      X_batch=X_shuffle[num_batches*batch_size:] #last batch\n",
        "      y_batch=y_shuffle[num_batches*batch_size:] #last batch\n",
        "      resid=X_batch@coeff-y_batch\n",
        "      gradient=((X_batch.T)@resid)/len(X_batch)\n",
        "      coeff=coeff-lr*gradient\n",
        "  return coeff\n",
        "\n",
        "def predict(X,coeff): #If X was scaled, then this will return scaled predictions\n",
        "  return X@coeff\n",
        "\n",
        "def MSE(pred,y):\n",
        "  return np.sum((pred-y)**2)/len(y)"
      ]
    },
    {
      "cell_type": "markdown",
      "metadata": {
        "id": "8DVpCwzDc-Mg"
      },
      "source": [
        "In this assignment you will modify the SGD function to allow for L1 (Lasso) and L2 (Ridge) regularization."
      ]
    },
    {
      "cell_type": "code",
      "execution_count": 144,
      "metadata": {
        "id": "ekb97yA2shYl"
      },
      "outputs": [],
      "source": [
        "def SGD(X,y,epochs,batch_size,lr,alpha=0,beta=0):\n",
        "  '''Stochastic Gradient Descent With L1 and L2 regularization'''\n",
        "  #alpha=amount of L1 (Lasso) regularization\n",
        "  #beta=amount of L2 (Ridge) regularization\n",
        "  X=np.array(X) #Just in case X is a DataFrame\n",
        "  y=np.array(y) #Just in case y is a Series\n",
        "  n=len(X)\n",
        "  coeff=np.ones(X.shape[1]) #Initialize all coeff to be 1 (something to play with?)\n",
        "  indices=np.arange(len(X))\n",
        "  for i in range(epochs):\n",
        "    np.random.seed(i) #Just so everyone gets the same answer!\n",
        "    np.random.shuffle(indices)\n",
        "    X_shuffle=X[indices]\n",
        "    y_shuffle=y[indices]\n",
        "    num_batches=n//batch_size\n",
        "    for j in range(num_batches):\n",
        "      X_batch=X_shuffle[j*batch_size:(j+1)*batch_size]\n",
        "      y_batch=y_shuffle[j*batch_size:(j+1)*batch_size]\n",
        "      resid=X_batch@coeff-y_batch\n",
        "      gradient=lr* ((X_batch.T)@resid)/len(X_batch)\n",
        "      \n",
        "      gradient += 2 * alpha * np.sign(coeff) + beta * coeff\n",
        "      coeff=coeff-gradient #Gradient Descent step.\n",
        "    if n%batch_size!=0: #Check if there is a smaller leftover batch\n",
        "      X_batch=X_shuffle[num_batches*batch_size:] #last batch\n",
        "      y_batch=y_shuffle[num_batches*batch_size:] #last batch\n",
        "      resid=X_batch@coeff-y_batch\n",
        "      gradient=lr*((X_batch.T)@resid)/len(X_batch)\n",
        "      \n",
        "      gradient += 2 * alpha * np.sign(coeff) + beta * coeff\n",
        "      coeff=coeff-gradient\n",
        "  return coeff"
      ]
    },
    {
      "cell_type": "markdown",
      "metadata": {
        "id": "QI90N4jMeaa2"
      },
      "source": [
        "Let's make up some data to play with:"
      ]
    },
    {
      "cell_type": "code",
      "execution_count": 145,
      "metadata": {
        "id": "k942TqCneaAl"
      },
      "outputs": [
        {
          "data": {
            "text/plain": [
              "<matplotlib.collections.PathCollection at 0x176572850>"
            ]
          },
          "execution_count": 145,
          "metadata": {},
          "output_type": "execute_result"
        },
        {
          "data": {
            "image/png": "[encoded data removed]",
            "text/plain": [
              "<Figure size 640x480 with 1 Axes>"
            ]
          },
          "metadata": {},
          "output_type": "display_data"
        }
      ],
      "source": [
        "np.random.seed(4)\n",
        "x=np.arange(2,15)\n",
        "randoms=np.random.rand(13)\n",
        "y=2*x+3+10*randoms\n",
        "plt.scatter(x,y)"
      ]
    },
    {
      "cell_type": "markdown",
      "metadata": {
        "id": "qeS4RVNkZxsV"
      },
      "source": [
        "Now let's do a train/test split and fit an 8th degree polynomial model to the train set via SGD."
      ]
    },
    {
      "cell_type": "code",
      "execution_count": 146,
      "metadata": {
        "id": "fDaT_OcUfUt3"
      },
      "outputs": [
        {
          "data": {
            "text/plain": [
              "6.23308217150672"
            ]
          },
          "execution_count": 146,
          "metadata": {},
          "output_type": "execute_result"
        }
      ],
      "source": [
        "x_train,x_test,y_train,y_test=TrainTestSplit(x,y,0.75)\n",
        "xscaler=Scaler(x_train)\n",
        "yscaler=Scaler(y_train)\n",
        "x_train_scaled=xscaler.scale(x_train)\n",
        "X_train_scaled=PolyFeatures(x_train_scaled,8)\n",
        "y_train_scaled=yscaler.scale(y_train)\n",
        "coeff=SGD(X_train_scaled,y_train_scaled,100000,13,0.1)\n",
        "pred_scaled=predict(X_train_scaled,coeff) #Generate predictions for the training set\n",
        "pred=yscaler.unscale(pred_scaled)\n",
        "MSE(pred,y_train) #MSE for the training set. Should be very low!!"
      ]
    },
    {
      "cell_type": "markdown",
      "metadata": {
        "id": "50joKkzDVo-_"
      },
      "source": [
        "To see the overfitting, let's run predictions on lots of values of x."
      ]
    },
    {
      "cell_type": "code",
      "execution_count": 147,
      "metadata": {
        "id": "Ol9-ia7JVoks"
      },
      "outputs": [
        {
          "data": {
            "text/plain": [
              "[<matplotlib.lines.Line2D at 0x17643f490>]"
            ]
          },
          "execution_count": 147,
          "metadata": {},
          "output_type": "execute_result"
        },
        {
          "data": {
            "image/png": "[encoded data removed]",
            "text/plain": [
              "<Figure size 640x480 with 1 Axes>"
            ]
          },
          "metadata": {},
          "output_type": "display_data"
        }
      ],
      "source": [
        "x_plot=np.arange(2,15,.01) # 1,300 values of x between 2 and 15\n",
        "x_plot_scaled=xscaler.scale(x_plot)\n",
        "X_plot_scaled=PolyFeatures(x_plot_scaled,8)\n",
        "plot_pred_scaled=predict(X_plot_scaled,coeff) #Generate predictions for plotting\n",
        "plot_pred=yscaler.unscale(plot_pred_scaled)\n",
        "plt.scatter(x_train,y_train) #plot train set\n",
        "plt.scatter(x_test,y_test,color='r') #plot test set\n",
        "plt.plot(x_plot,plot_pred,'-r') #plot 1300 values and their predictions, and draw smooth curve\n"
      ]
    },
    {
      "cell_type": "markdown",
      "metadata": {
        "id": "KRPt9TsZad9d"
      },
      "source": [
        "Now we check the MSE for the test set. As you might expect from the overfitting, this is much higher!"
      ]
    },
    {
      "cell_type": "code",
      "execution_count": 148,
      "metadata": {
        "id": "SpiZ6FECjAv0"
      },
      "outputs": [
        {
          "data": {
            "text/plain": [
              "15.662681781473346"
            ]
          },
          "execution_count": 148,
          "metadata": {},
          "output_type": "execute_result"
        }
      ],
      "source": [
        "x_test_scaled=xscaler.scale(x_test)\n",
        "X_test_scaled=PolyFeatures(x_test_scaled,8)\n",
        "pred_scaled=predict(X_test_scaled,coeff) #generate predictions for the test set\n",
        "pred=yscaler.unscale(pred_scaled)\n",
        "MSE(pred,y_test) #MSE for the test set\n"
      ]
    },
    {
      "cell_type": "markdown",
      "metadata": {
        "id": "93qE4pyGaoAn"
      },
      "source": [
        "Now let's do it again and add a little L2 regularization by setting beta=0.01 in the SGD function:"
      ]
    },
    {
      "cell_type": "code",
      "execution_count": 149,
      "metadata": {
        "id": "8NdB-bs3j4dV"
      },
      "outputs": [
        {
          "data": {
            "text/plain": [
              "5.158809818036022"
            ]
          },
          "execution_count": 149,
          "metadata": {},
          "output_type": "execute_result"
        }
      ],
      "source": [
        "coeff=SGD(X_train_scaled,y_train_scaled,100000,13,0.1,beta=0.01)\n",
        "pred_scaled=predict(X_test_scaled,coeff) #generate predictions for the test set\n",
        "pred=yscaler.unscale(pred_scaled)\n",
        "MSE_with_L2=MSE(pred,y_test) #MSE for the test set\n",
        "MSE_with_L2"
      ]
    },
    {
      "cell_type": "markdown",
      "metadata": {
        "id": "_hNv9r8qa4bb"
      },
      "source": [
        "If your SGD function works, the MSE should be about 5. That's much better!!"
      ]
    },
    {
      "cell_type": "markdown",
      "metadata": {
        "id": "9HpW-goqbVZf"
      },
      "source": [
        "---\n",
        "*Assignment*\n",
        "\n",
        "You will now explore the classic California housing dataset. Import it here:\n"
      ]
    },
    {
      "cell_type": "code",
      "execution_count": 150,
      "metadata": {},
      "outputs": [],
      "source": [
        "import ssl\n",
        "ssl._create_default_https_context = ssl._create_unverified_context"
      ]
    },
    {
      "cell_type": "code",
      "execution_count": 151,
      "metadata": {
        "colab": {
          "base_uri": "https://localhost:8080/",
          "height": 208
        },
        "id": "T3GS1hi0-HFd",
        "outputId": "c8595cb1-f593-402d-9218-100e32ab4075"
      },
      "outputs": [
        {
          "data": {
            "text/html": [
              "<div>\n",
              "<style scoped>\n",
              "    .dataframe tbody tr th:only-of-type {\n",
              "        vertical-align: middle;\n",
              "    }\n",
              "\n",
              "    .dataframe tbody tr th {\n",
              "        vertical-align: top;\n",
              "    }\n",
              "\n",
              "    .dataframe thead th {\n",
              "        text-align: right;\n",
              "    }\n",
              "</style>\n",
              "<table border=\"1\" class=\"dataframe\">\n",
              "  <thead>\n",
              "    <tr style=\"text-align: right;\">\n",
              "      <th></th>\n",
              "      <th>MedInc</th>\n",
              "      <th>HouseAge</th>\n",
              "      <th>AveRooms</th>\n",
              "      <th>AveBedrms</th>\n",
              "      <th>Population</th>\n",
              "      <th>AveOccup</th>\n",
              "      <th>Latitude</th>\n",
              "      <th>Longitude</th>\n",
              "      <th>MedHouseVal</th>\n",
              "    </tr>\n",
              "  </thead>\n",
              "  <tbody>\n",
              "    <tr>\n",
              "      <th>0</th>\n",
              "      <td>8.3252</td>\n",
              "      <td>41.0</td>\n",
              "      <td>6.984127</td>\n",
              "      <td>1.023810</td>\n",
              "      <td>322.0</td>\n",
              "      <td>2.555556</td>\n",
              "      <td>37.88</td>\n",
              "      <td>-122.23</td>\n",
              "      <td>4.526</td>\n",
              "    </tr>\n",
              "    <tr>\n",
              "      <th>1</th>\n",
              "      <td>8.3014</td>\n",
              "      <td>21.0</td>\n",
              "      <td>6.238137</td>\n",
              "      <td>0.971880</td>\n",
              "      <td>2401.0</td>\n",
              "      <td>2.109842</td>\n",
              "      <td>37.86</td>\n",
              "      <td>-122.22</td>\n",
              "      <td>3.585</td>\n",
              "    </tr>\n",
              "    <tr>\n",
              "      <th>2</th>\n",
              "      <td>7.2574</td>\n",
              "      <td>52.0</td>\n",
              "      <td>8.288136</td>\n",
              "      <td>1.073446</td>\n",
              "      <td>496.0</td>\n",
              "      <td>2.802260</td>\n",
              "      <td>37.85</td>\n",
              "      <td>-122.24</td>\n",
              "      <td>3.521</td>\n",
              "    </tr>\n",
              "  </tbody>\n",
              "</table>\n",
              "</div>"
            ],
            "text/plain": [
              "   MedInc  HouseAge  AveRooms  AveBedrms  Population  AveOccup  Latitude  \\\n",
              "0  8.3252      41.0  6.984127   1.023810       322.0  2.555556     37.88   \n",
              "1  8.3014      21.0  6.238137   0.971880      2401.0  2.109842     37.86   \n",
              "2  7.2574      52.0  8.288136   1.073446       496.0  2.802260     37.85   \n",
              "\n",
              "   Longitude  MedHouseVal  \n",
              "0    -122.23        4.526  \n",
              "1    -122.22        3.585  \n",
              "2    -122.24        3.521  "
            ]
          },
          "execution_count": 151,
          "metadata": {},
          "output_type": "execute_result"
        }
      ],
      "source": [
        "from sklearn.datasets import fetch_california_housing\n",
        "ca=fetch_california_housing(as_frame=True).frame\n",
        "ca.head(3)"
      ]
    },
    {
      "cell_type": "code",
      "execution_count": 152,
      "metadata": {
        "colab": {
          "base_uri": "https://localhost:8080/"
        },
        "id": "3DGAd-ZySjd1",
        "outputId": "4ae770b8-1ff2-44d1-8728-0ed37f5420e4"
      },
      "outputs": [
        {
          "data": {
            "text/plain": [
              "(20640, 9)"
            ]
          },
          "execution_count": 152,
          "metadata": {},
          "output_type": "execute_result"
        }
      ],
      "source": [
        "ca.shape"
      ]
    },
    {
      "cell_type": "markdown",
      "metadata": {
        "id": "7AcG3J8oE04l"
      },
      "source": [
        "Our goal is to find a model which predicts the MedHouseVal variable as accurately as possible. In the process of exploring this question, we will decide which of features are most important for prediction.\n",
        "\n",
        "To start, you'll need to create a feature matrix X containing all of the columns besides MedHouseVal, and a target vector y containing the entries in MedHouseVal."
      ]
    },
    {
      "cell_type": "code",
      "execution_count": 153,
      "metadata": {
        "id": "cwg98MHTFbFP"
      },
      "outputs": [],
      "source": [
        "X=ca.drop(['MedHouseVal'], axis=1, inplace=False)\n",
        "y=ca['MedHouseVal']"
      ]
    },
    {
      "cell_type": "markdown",
      "metadata": {
        "id": "i3iclgTlbxPu"
      },
      "source": [
        "Now, do the following:\n",
        "1. 80/20 Train-Test split\n",
        "2. Scale the training feature matrix and training target array.\n",
        "3. Add a column of ones.\n",
        "4. Find the coefficients of a linear model using SGD with 1000 epochs, batch sizes of 5000, and a learning rate of 0.01. (For now, don't use any regularization.)"
      ]
    },
    {
      "cell_type": "code",
      "execution_count": 154,
      "metadata": {},
      "outputs": [],
      "source": [
        "X_train,X_test,y_train,y_test = TrainTestSplit(X, y, 0.8)"
      ]
    },
    {
      "cell_type": "code",
      "execution_count": 182,
      "metadata": {},
      "outputs": [],
      "source": [
        "X_train_scaled = X_train.copy()\n",
        "X_train_scaled = np.transpose(X_train_scaled)\n",
        "\n",
        "for column in X_train_scaled.columns:\n",
        "    X_train_scaled[column] = Scaler(X_train_scaled[column]).scale(X_train_scaled[column])\n",
        "\n",
        "X_train_scaled = np.transpose(X_train_scaled)\n",
        "\n",
        "# X_train_scaled = (X_train-X_train.min())/(X_train.max()-X_train.min())\n",
        "\n",
        "\n",
        "y_train_scaled = Scaler(y_train).scale(y_train)"
      ]
    },
    {
      "cell_type": "code",
      "execution_count": 183,
      "metadata": {},
      "outputs": [],
      "source": [
        "X_train_scaled['b0'] = 1"
      ]
    },
    {
      "cell_type": "code",
      "execution_count": 184,
      "metadata": {
        "id": "2OzigCJ0SgxL"
      },
      "outputs": [
        {
          "data": {
            "text/plain": [
              "array([ 0.16624471, -0.01433341,  0.13196753,  0.16846975,  0.1767181 ,\n",
              "        0.1593252 , -0.07288238,  1.        ,  0.15656857])"
            ]
          },
          "execution_count": 184,
          "metadata": {},
          "output_type": "execute_result"
        }
      ],
      "source": [
        "#YOUR CODE HERE\n",
        "epochs = 1000\n",
        "batch_size = 5000\n",
        "lr = 0.01\n",
        "\n",
        "coeff=SGD(X_train_scaled, y_train_scaled, epochs, batch_size, lr)\n",
        "coeff"
      ]
    },
    {
      "cell_type": "markdown",
      "metadata": {
        "id": "wAjf_uiNcZZQ"
      },
      "source": [
        "Coefficients that are very close to zero indicate that the corresponding columns are an insignificant factor in making predictions with this model. How many coefficients are greater than -0.1 and less than 0.1?\n",
        "\n"
      ]
    },
    {
      "cell_type": "code",
      "execution_count": 185,
      "metadata": {},
      "outputs": [],
      "source": [
        "mask = (coeff > -0.1) & (coeff < 0.1)"
      ]
    },
    {
      "cell_type": "code",
      "execution_count": 186,
      "metadata": {
        "id": "7tsozLpVdJAH"
      },
      "outputs": [
        {
          "data": {
            "text/plain": [
              "2"
            ]
          },
          "execution_count": 186,
          "metadata": {},
          "output_type": "execute_result"
        }
      ],
      "source": [
        "num_small_coeffs_no_regularization=np.count_nonzero(mask)\n",
        "num_small_coeffs_no_regularization"
      ]
    },
    {
      "cell_type": "markdown",
      "metadata": {
        "id": "GRkBSlvyv2fm"
      },
      "source": [
        "Calculate the MSE for the test set."
      ]
    },
    {
      "cell_type": "code",
      "execution_count": 174,
      "metadata": {},
      "outputs": [],
      "source": [
        "X_test_scaled = X_test.copy()\n",
        "# X_test_scaled = (X_test-X_test.min())/(X_test.max()-X_test.min())\n",
        "# for column in X_test.columns:\n",
        "#     X_test_scaled[column] = Scaler(X_test[column]).scale(X_test[column])\n",
        "X_test_scaled['b0'] = 1"
      ]
    },
    {
      "cell_type": "code",
      "execution_count": 175,
      "metadata": {},
      "outputs": [],
      "source": [
        "\n",
        "# pred_scaled = predict(X_test_scaled, coeff)\n",
        "# pred = Scaler(pred_scaled).unscale(pred_scaled)\n",
        "\n",
        "pred = predict(X_test_scaled, coeff)"
      ]
    },
    {
      "cell_type": "code",
      "execution_count": 176,
      "metadata": {
        "id": "uCNqLXD6v4i6"
      },
      "outputs": [
        {
          "data": {
            "text/plain": [
              "2797582.080708738"
            ]
          },
          "execution_count": 176,
          "metadata": {},
          "output_type": "execute_result"
        }
      ],
      "source": [
        "MSE_no_reg=MSE(pred, y_test)\n",
        "MSE_no_reg"
      ]
    },
    {
      "cell_type": "markdown",
      "metadata": {
        "id": "x7KTku1bdJdy"
      },
      "source": [
        "To refine this model more, we can use a little L1 regularization to see which columns are *really* important (feature selection). Find another set of coefficients using SGD with the same number of epochs, batch size, and learning rate, but this time include a little L1 regularization by lettting alpha=10e-5 (i.e. 0.0001)."
      ]
    },
    {
      "cell_type": "code",
      "execution_count": 177,
      "metadata": {
        "id": "wDFyPlFpzQ_G"
      },
      "outputs": [
        {
          "data": {
            "text/plain": [
              "array([ 5.29002410e-01,  7.15594870e-02,  1.39416234e-01,  1.35964932e-01,\n",
              "        1.62641727e-01,  1.93643980e-01,  1.91354908e-05, -2.36295245e-05,\n",
              "        1.84940708e-01])"
            ]
          },
          "execution_count": 177,
          "metadata": {},
          "output_type": "execute_result"
        }
      ],
      "source": [
        "coeff_with_L1=SGD(X_train_scaled, y_train_scaled, epochs, batch_size, lr, alpha=0.0001)\n",
        "coeff_with_L1"
      ]
    },
    {
      "cell_type": "markdown",
      "metadata": {
        "id": "ioeG-E8tdbv0"
      },
      "source": [
        "Now how many coefficients are now insignificant?"
      ]
    },
    {
      "cell_type": "code",
      "execution_count": 178,
      "metadata": {
        "id": "0lgez-hMda5K"
      },
      "outputs": [
        {
          "data": {
            "text/plain": [
              "0"
            ]
          },
          "execution_count": 178,
          "metadata": {},
          "output_type": "execute_result"
        }
      ],
      "source": [
        "num_small_coeffs_with_regularization=np.count_nonzero(mask)\n",
        "num_small_coeffs_with_regularization"
      ]
    },
    {
      "cell_type": "markdown",
      "metadata": {
        "id": "mkErXWuOygYE"
      },
      "source": [
        "Which columns of the original ca DataFrame do these correspond to? (Ignore the added column of ones, if that turns out to be insignificant.)"
      ]
    },
    {
      "cell_type": "code",
      "execution_count": 180,
      "metadata": {},
      "outputs": [
        {
          "name": "stderr",
          "output_type": "stream",
          "text": [
            "/var/folders/pc/1h9xlpvd7rd5xtvc_7rkfznr0000gn/T/ipykernel_16103/3792352524.py:1: DeprecationWarning: Calling nonzero on 0d arrays is deprecated, as it behaves surprisingly. Use `atleast_1d(arr).nonzero()` if the old behavior was intended.\n",
            "  insig_indices = np.where(num_small_coeffs_with_regularization)[0]\n"
          ]
        }
      ],
      "source": [
        "insig_indices = np.where(num_small_coeffs_with_regularization)[0]"
      ]
    },
    {
      "cell_type": "code",
      "execution_count": 181,
      "metadata": {
        "colab": {
          "base_uri": "https://localhost:8080/"
        },
        "id": "E09McJlvfQhM",
        "outputId": "c33ae0d4-6a63-47e2-bcbe-486e8ff83f8a"
      },
      "outputs": [
        {
          "data": {
            "text/plain": [
              "Index([], dtype='object')"
            ]
          },
          "execution_count": 181,
          "metadata": {},
          "output_type": "execute_result"
        }
      ],
      "source": [
        "insig_columns=ca.columns[insig_indices] #Insert indices of \"insignificant\" columns\n",
        "insig_columns"
      ]
    },
    {
      "cell_type": "markdown",
      "metadata": {
        "id": "xwPgsqBGu9RV"
      },
      "source": [
        "Now, do the following:\n",
        "1. Drop the \"insignificant\" columns from the ca dataframe.\n",
        "2. Do a new train-test split.\n",
        "3. Scale the training feature matrix and training target (you'll need to define new Scaler objects).\n",
        "4. Add a column of ones, *only if you found that column to be significant for prediction!*\n",
        "5. Create a linear model with the same epochs, batch size, and learning rate as before (no regularization).\n",
        "6. Determine the MSE on the test set.\n",
        "\n",
        "You should find the MSE is about the same as before, indicating that the dropped columns really were unimportant for prediction."
      ]
    },
    {
      "cell_type": "code",
      "execution_count": null,
      "metadata": {
        "id": "8eMQHiRWxA-1"
      },
      "outputs": [],
      "source": [
        "new_MSE="
      ]
    }
  ],
  "metadata": {
    "colab": {
      "provenance": []
    },
    "gpuClass": "standard",
    "kernelspec": {
      "display_name": "Python 3",
      "name": "python3"
    },
    "language_info": {
      "codemirror_mode": {
        "name": "ipython",
        "version": 3
      },
      "file_extension": ".py",
      "mimetype": "text/x-python",
      "name": "python",
      "nbconvert_exporter": "python",
      "pygments_lexer": "ipython3",
      "version": "3.11.3"
    }
  },
  "nbformat": 4,
  "nbformat_minor": 0
}
