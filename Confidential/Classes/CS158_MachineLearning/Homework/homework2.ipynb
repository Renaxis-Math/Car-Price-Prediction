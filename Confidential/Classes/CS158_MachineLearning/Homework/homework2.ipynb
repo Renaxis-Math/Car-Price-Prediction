{
  "cells": [
    {
      "cell_type": "markdown",
      "metadata": {
        "id": "G8OReEGoBUyY"
      },
      "source": [
        "**Homework 2**"
      ]
    },
    {
      "cell_type": "markdown",
      "metadata": {
        "id": "BxOCrr74BYky"
      },
      "source": [
        "We begin with the usual imports."
      ]
    },
    {
      "cell_type": "code",
      "execution_count": 97,
      "metadata": {
        "id": "nyeQSz7hP6MN"
      },
      "outputs": [],
      "source": [
        "import numpy as np\n",
        "import pandas as pd\n",
        "\n",
        "import ssl\n",
        "ssl._create_default_https_context = ssl._create_unverified_context"
      ]
    },
    {
      "cell_type": "markdown",
      "metadata": {
        "id": "ENoFBgC2Bcvt"
      },
      "source": [
        "Now load the iris dataset."
      ]
    },
    {
      "cell_type": "code",
      "execution_count": 98,
      "metadata": {
        "colab": {
          "base_uri": "https://localhost:8080/",
          "height": 228
        },
        "id": "5pStLgrIQCQu",
        "outputId": "f92fc392-5ff4-4e0a-8dad-bda6ebecd47f"
      },
      "outputs": [
        {
          "data": {
            "text/html": [
              "<div>\n",
              "<style scoped>\n",
              "    .dataframe tbody tr th:only-of-type {\n",
              "        vertical-align: middle;\n",
              "    }\n",
              "\n",
              "    .dataframe tbody tr th {\n",
              "        vertical-align: top;\n",
              "    }\n",
              "\n",
              "    .dataframe thead th {\n",
              "        text-align: right;\n",
              "    }\n",
              "</style>\n",
              "<table border=\"1\" class=\"dataframe\">\n",
              "  <thead>\n",
              "    <tr style=\"text-align: right;\">\n",
              "      <th></th>\n",
              "      <th>Sepal.Length</th>\n",
              "      <th>Sepal.Width</th>\n",
              "      <th>Petal.Length</th>\n",
              "      <th>Petal.Width</th>\n",
              "      <th>Species</th>\n",
              "    </tr>\n",
              "    <tr>\n",
              "      <th>rownames</th>\n",
              "      <th></th>\n",
              "      <th></th>\n",
              "      <th></th>\n",
              "      <th></th>\n",
              "      <th></th>\n",
              "    </tr>\n",
              "  </thead>\n",
              "  <tbody>\n",
              "    <tr>\n",
              "      <th>1</th>\n",
              "      <td>5.1</td>\n",
              "      <td>3.5</td>\n",
              "      <td>1.4</td>\n",
              "      <td>0.2</td>\n",
              "      <td>setosa</td>\n",
              "    </tr>\n",
              "    <tr>\n",
              "      <th>2</th>\n",
              "      <td>4.9</td>\n",
              "      <td>3.0</td>\n",
              "      <td>1.4</td>\n",
              "      <td>0.2</td>\n",
              "      <td>setosa</td>\n",
              "    </tr>\n",
              "    <tr>\n",
              "      <th>3</th>\n",
              "      <td>4.7</td>\n",
              "      <td>3.2</td>\n",
              "      <td>1.3</td>\n",
              "      <td>0.2</td>\n",
              "      <td>setosa</td>\n",
              "    </tr>\n",
              "    <tr>\n",
              "      <th>4</th>\n",
              "      <td>4.6</td>\n",
              "      <td>3.1</td>\n",
              "      <td>1.5</td>\n",
              "      <td>0.2</td>\n",
              "      <td>setosa</td>\n",
              "    </tr>\n",
              "    <tr>\n",
              "      <th>5</th>\n",
              "      <td>5.0</td>\n",
              "      <td>3.6</td>\n",
              "      <td>1.4</td>\n",
              "      <td>0.2</td>\n",
              "      <td>setosa</td>\n",
              "    </tr>\n",
              "  </tbody>\n",
              "</table>\n",
              "</div>"
            ],
            "text/plain": [
              "          Sepal.Length  Sepal.Width  Petal.Length  Petal.Width Species\n",
              "rownames                                                              \n",
              "1                  5.1          3.5           1.4          0.2  setosa\n",
              "2                  4.9          3.0           1.4          0.2  setosa\n",
              "3                  4.7          3.2           1.3          0.2  setosa\n",
              "4                  4.6          3.1           1.5          0.2  setosa\n",
              "5                  5.0          3.6           1.4          0.2  setosa"
            ]
          },
          "execution_count": 98,
          "metadata": {},
          "output_type": "execute_result"
        }
      ],
      "source": [
        "iris = pd.read_csv(\"https://vincentarelbundock.github.io/Rdatasets/csv/datasets/iris.csv\",index_col=0)\n",
        "iris.head(5)"
      ]
    },
    {
      "cell_type": "markdown",
      "metadata": {
        "id": "NFTIGfRwFqfM"
      },
      "source": [
        "Define `data` to be a DataFrame containing the `Petal.Length` and `Petal.Width` of the flowers in the iris dataset. Define `target` to be a Pandas Series containing the `Species` column."
      ]
    },
    {
      "cell_type": "code",
      "execution_count": 99,
      "metadata": {
        "id": "bH6py8VwPM0L"
      },
      "outputs": [
        {
          "name": "stdout",
          "output_type": "stream",
          "text": [
            "     Petal.Length  Petal.Width\n",
            "0             1.4          0.2\n",
            "1             1.4          0.2\n",
            "2             1.3          0.2\n",
            "3             1.5          0.2\n",
            "4             1.4          0.2\n",
            "..            ...          ...\n",
            "145           5.2          2.3\n",
            "146           5.0          1.9\n",
            "147           5.2          2.0\n",
            "148           5.4          2.3\n",
            "149           5.1          1.8\n",
            "\n",
            "[150 rows x 2 columns]\n",
            "rownames\n",
            "1         setosa\n",
            "2         setosa\n",
            "3         setosa\n",
            "4         setosa\n",
            "5         setosa\n",
            "         ...    \n",
            "146    virginica\n",
            "147    virginica\n",
            "148    virginica\n",
            "149    virginica\n",
            "150    virginica\n",
            "Name: Species, Length: 150, dtype: object\n"
          ]
        }
      ],
      "source": [
        "data = iris[[\"Petal.Length\", \"Petal.Width\"]].reset_index(drop=True)\n",
        "target = iris[\"Species\"]\n",
        "\n",
        "print(data)\n",
        "print(target)"
      ]
    },
    {
      "cell_type": "markdown",
      "metadata": {
        "id": "6bYC9dfkIAFP"
      },
      "source": [
        "Define a function `sq_distances` with inputs `data` (a DataFrame of known Petal Lengths and Petal Widths), `length` and `width` (the Petal Length and Petal Width of an unknown flower). The function should return a Pandas series of squared distances from the unknown point to each point in `data`. Use Pandas and/or Numpy operations. DO NOT USE A FOR LOOP."
      ]
    },
    {
      "cell_type": "code",
      "execution_count": 100,
      "metadata": {},
      "outputs": [],
      "source": [
        "COLUMN = 1\n",
        "ROW = 0"
      ]
    },
    {
      "cell_type": "code",
      "execution_count": 101,
      "metadata": {
        "id": "TzIIkOhYQe10"
      },
      "outputs": [],
      "source": [
        "def sq_distances(data, length, width):\n",
        "  return pd.Series(np.linalg.norm(data - (length, width), axis=COLUMN))"
      ]
    },
    {
      "cell_type": "markdown",
      "metadata": {
        "id": "FKIEAXtoJxSW"
      },
      "source": [
        "Define a function `SpeciesOfKNeighbors` that gives the Species of the k nearest neighbors from the point with given Petal Length and Petal Width to the points in `data`. (The list of species for each point in `data` is contained in the Series `target`.)"
      ]
    },
    {
      "cell_type": "code",
      "execution_count": 102,
      "metadata": {
        "id": "l0_thjk2RE6J"
      },
      "outputs": [],
      "source": [
        "def SpeciesOfNeighbors(data, target, x, y, k):\n",
        "  distances = sq_distances(data, x, y)\n",
        "  distances_species_df = pd.concat([target, distances], axis=COLUMN, keys=['Species', 'Distance']).sort_values('Distance')\n",
        "  \n",
        "  return distances_species_df['Species'][:k]"
      ]
    },
    {
      "cell_type": "markdown",
      "metadata": {
        "id": "ZnODjzehKigo"
      },
      "source": [
        "Create a function `prediction` that takes a Pandas Series of labels, and returns the label that appears the most often. (Hint: The Pandas Series function `value_counts()` will be useful here."
      ]
    },
    {
      "cell_type": "code",
      "execution_count": 103,
      "metadata": {
        "id": "gzc-_Hy2KyzD"
      },
      "outputs": [],
      "source": [
        "def prediction(labels):\n",
        "  print(labels.value_counts())\n",
        "  \n",
        "  return None"
      ]
    },
    {
      "cell_type": "markdown",
      "metadata": {
        "id": "ad8XbXXzLR00"
      },
      "source": [
        "Create a function `KNN` which takes a DataFrame `data` of known Petal Lengths and Petal Widths, a Series `target` containing their species, a hyperparameter `k`, and the `length` and `width` of the petal of an unknown flower. Your function should return the most common species among the k nearest neighbors of the unknown flower."
      ]
    },
    {
      "cell_type": "code",
      "execution_count": 104,
      "metadata": {
        "id": "DfDoFiIJLRUt"
      },
      "outputs": [],
      "source": [
        "def KNN(data, target, x, y, k):\n",
        "  nearest_neighbors = SpeciesOfNeighbors(data, target, x, y, k)\n",
        "  return prediction(nearest_neighbors)"
      ]
    },
    {
      "cell_type": "markdown",
      "metadata": {
        "id": "_KKdaog_5LQn"
      },
      "source": [
        "Test your code here (it should return 'setosa'):"
      ]
    },
    {
      "cell_type": "code",
      "execution_count": 105,
      "metadata": {
        "id": "I_G3fcOE5K1G"
      },
      "outputs": [
        {
          "ename": "KeyError",
          "evalue": "'count'",
          "output_type": "error",
          "traceback": [
            "\u001b[0;31m---------------------------------------------------------------------------\u001b[0m",
            "\u001b[0;31mKeyError\u001b[0m                                  Traceback (most recent call last)",
            "File \u001b[0;32m/Library/Frameworks/Python.framework/Versions/3.11/lib/python3.11/site-packages/pandas/core/indexes/base.py:3652\u001b[0m, in \u001b[0;36mIndex.get_loc\u001b[0;34m(self, key)\u001b[0m\n\u001b[1;32m   3651\u001b[0m \u001b[39mtry\u001b[39;00m:\n\u001b[0;32m-> 3652\u001b[0m     \u001b[39mreturn\u001b[39;00m \u001b[39mself\u001b[39;49m\u001b[39m.\u001b[39;49m_engine\u001b[39m.\u001b[39;49mget_loc(casted_key)\n\u001b[1;32m   3653\u001b[0m \u001b[39mexcept\u001b[39;00m \u001b[39mKeyError\u001b[39;00m \u001b[39mas\u001b[39;00m err:\n",
            "File \u001b[0;32m/Library/Frameworks/Python.framework/Versions/3.11/lib/python3.11/site-packages/pandas/_libs/index.pyx:147\u001b[0m, in \u001b[0;36mpandas._libs.index.IndexEngine.get_loc\u001b[0;34m()\u001b[0m\n",
            "File \u001b[0;32m/Library/Frameworks/Python.framework/Versions/3.11/lib/python3.11/site-packages/pandas/_libs/index.pyx:176\u001b[0m, in \u001b[0;36mpandas._libs.index.IndexEngine.get_loc\u001b[0;34m()\u001b[0m\n",
            "File \u001b[0;32mpandas/_libs/hashtable_class_helper.pxi:7080\u001b[0m, in \u001b[0;36mpandas._libs.hashtable.PyObjectHashTable.get_item\u001b[0;34m()\u001b[0m\n",
            "File \u001b[0;32mpandas/_libs/hashtable_class_helper.pxi:7088\u001b[0m, in \u001b[0;36mpandas._libs.hashtable.PyObjectHashTable.get_item\u001b[0;34m()\u001b[0m\n",
            "\u001b[0;31mKeyError\u001b[0m: 'count'",
            "\nThe above exception was the direct cause of the following exception:\n",
            "\u001b[0;31mKeyError\u001b[0m                                  Traceback (most recent call last)",
            "\u001b[1;32m/Users/hoangchu/Documents/Confidential/Classes/CS158_MachineLearning/Homework/homework2.ipynb Cell 18\u001b[0m line \u001b[0;36m1\n\u001b[0;32m----> <a href='vscode-notebook-cell:/Users/hoangchu/Documents/Confidential/Classes/CS158_MachineLearning/Homework/homework2.ipynb#X24sZmlsZQ%3D%3D?line=0'>1</a>\u001b[0m KNN(data,target,\u001b[39m1.4\u001b[39;49m,\u001b[39m0.2\u001b[39;49m,\u001b[39m3\u001b[39;49m)\n",
            "\u001b[1;32m/Users/hoangchu/Documents/Confidential/Classes/CS158_MachineLearning/Homework/homework2.ipynb Cell 18\u001b[0m line \u001b[0;36m3\n\u001b[1;32m      <a href='vscode-notebook-cell:/Users/hoangchu/Documents/Confidential/Classes/CS158_MachineLearning/Homework/homework2.ipynb#X24sZmlsZQ%3D%3D?line=0'>1</a>\u001b[0m \u001b[39mdef\u001b[39;00m \u001b[39mKNN\u001b[39m(data, target, x, y, k):\n\u001b[1;32m      <a href='vscode-notebook-cell:/Users/hoangchu/Documents/Confidential/Classes/CS158_MachineLearning/Homework/homework2.ipynb#X24sZmlsZQ%3D%3D?line=1'>2</a>\u001b[0m   nearest_neighbors \u001b[39m=\u001b[39m SpeciesOfNeighbors(data, target, x, y, k)\n\u001b[0;32m----> <a href='vscode-notebook-cell:/Users/hoangchu/Documents/Confidential/Classes/CS158_MachineLearning/Homework/homework2.ipynb#X24sZmlsZQ%3D%3D?line=2'>3</a>\u001b[0m   \u001b[39mreturn\u001b[39;00m prediction(nearest_neighbors)\n",
            "\u001b[1;32m/Users/hoangchu/Documents/Confidential/Classes/CS158_MachineLearning/Homework/homework2.ipynb Cell 18\u001b[0m line \u001b[0;36m2\n\u001b[1;32m      <a href='vscode-notebook-cell:/Users/hoangchu/Documents/Confidential/Classes/CS158_MachineLearning/Homework/homework2.ipynb#X24sZmlsZQ%3D%3D?line=0'>1</a>\u001b[0m \u001b[39mdef\u001b[39;00m \u001b[39mprediction\u001b[39m(labels):\n\u001b[0;32m----> <a href='vscode-notebook-cell:/Users/hoangchu/Documents/Confidential/Classes/CS158_MachineLearning/Homework/homework2.ipynb#X24sZmlsZQ%3D%3D?line=1'>2</a>\u001b[0m   \u001b[39mprint\u001b[39m(labels\u001b[39m.\u001b[39;49mvalue_counts()[\u001b[39m'\u001b[39;49m\u001b[39mcount\u001b[39;49m\u001b[39m'\u001b[39;49m])\n\u001b[1;32m      <a href='vscode-notebook-cell:/Users/hoangchu/Documents/Confidential/Classes/CS158_MachineLearning/Homework/homework2.ipynb#X24sZmlsZQ%3D%3D?line=3'>4</a>\u001b[0m   \u001b[39mreturn\u001b[39;00m \u001b[39mNone\u001b[39;00m\n",
            "File \u001b[0;32m/Library/Frameworks/Python.framework/Versions/3.11/lib/python3.11/site-packages/pandas/core/series.py:1007\u001b[0m, in \u001b[0;36mSeries.__getitem__\u001b[0;34m(self, key)\u001b[0m\n\u001b[1;32m   1004\u001b[0m     \u001b[39mreturn\u001b[39;00m \u001b[39mself\u001b[39m\u001b[39m.\u001b[39m_values[key]\n\u001b[1;32m   1006\u001b[0m \u001b[39melif\u001b[39;00m key_is_scalar:\n\u001b[0;32m-> 1007\u001b[0m     \u001b[39mreturn\u001b[39;00m \u001b[39mself\u001b[39;49m\u001b[39m.\u001b[39;49m_get_value(key)\n\u001b[1;32m   1009\u001b[0m \u001b[39mif\u001b[39;00m is_hashable(key):\n\u001b[1;32m   1010\u001b[0m     \u001b[39m# Otherwise index.get_value will raise InvalidIndexError\u001b[39;00m\n\u001b[1;32m   1011\u001b[0m     \u001b[39mtry\u001b[39;00m:\n\u001b[1;32m   1012\u001b[0m         \u001b[39m# For labels that don't resolve as scalars like tuples and frozensets\u001b[39;00m\n",
            "File \u001b[0;32m/Library/Frameworks/Python.framework/Versions/3.11/lib/python3.11/site-packages/pandas/core/series.py:1116\u001b[0m, in \u001b[0;36mSeries._get_value\u001b[0;34m(self, label, takeable)\u001b[0m\n\u001b[1;32m   1113\u001b[0m     \u001b[39mreturn\u001b[39;00m \u001b[39mself\u001b[39m\u001b[39m.\u001b[39m_values[label]\n\u001b[1;32m   1115\u001b[0m \u001b[39m# Similar to Index.get_value, but we do not fall back to positional\u001b[39;00m\n\u001b[0;32m-> 1116\u001b[0m loc \u001b[39m=\u001b[39m \u001b[39mself\u001b[39;49m\u001b[39m.\u001b[39;49mindex\u001b[39m.\u001b[39;49mget_loc(label)\n\u001b[1;32m   1118\u001b[0m \u001b[39mif\u001b[39;00m is_integer(loc):\n\u001b[1;32m   1119\u001b[0m     \u001b[39mreturn\u001b[39;00m \u001b[39mself\u001b[39m\u001b[39m.\u001b[39m_values[loc]\n",
            "File \u001b[0;32m/Library/Frameworks/Python.framework/Versions/3.11/lib/python3.11/site-packages/pandas/core/indexes/base.py:3654\u001b[0m, in \u001b[0;36mIndex.get_loc\u001b[0;34m(self, key)\u001b[0m\n\u001b[1;32m   3652\u001b[0m     \u001b[39mreturn\u001b[39;00m \u001b[39mself\u001b[39m\u001b[39m.\u001b[39m_engine\u001b[39m.\u001b[39mget_loc(casted_key)\n\u001b[1;32m   3653\u001b[0m \u001b[39mexcept\u001b[39;00m \u001b[39mKeyError\u001b[39;00m \u001b[39mas\u001b[39;00m err:\n\u001b[0;32m-> 3654\u001b[0m     \u001b[39mraise\u001b[39;00m \u001b[39mKeyError\u001b[39;00m(key) \u001b[39mfrom\u001b[39;00m \u001b[39merr\u001b[39;00m\n\u001b[1;32m   3655\u001b[0m \u001b[39mexcept\u001b[39;00m \u001b[39mTypeError\u001b[39;00m:\n\u001b[1;32m   3656\u001b[0m     \u001b[39m# If we have a listlike key, _check_indexing_error will raise\u001b[39;00m\n\u001b[1;32m   3657\u001b[0m     \u001b[39m#  InvalidIndexError. Otherwise we fall through and re-raise\u001b[39;00m\n\u001b[1;32m   3658\u001b[0m     \u001b[39m#  the TypeError.\u001b[39;00m\n\u001b[1;32m   3659\u001b[0m     \u001b[39mself\u001b[39m\u001b[39m.\u001b[39m_check_indexing_error(key)\n",
            "\u001b[0;31mKeyError\u001b[0m: 'count'"
          ]
        }
      ],
      "source": [
        "KNN(data,target,1.4,0.2,3)"
      ]
    }
  ],
  "metadata": {
    "colab": {
      "provenance": []
    },
    "kernelspec": {
      "display_name": "Python 3",
      "name": "python3"
    },
    "language_info": {
      "codemirror_mode": {
        "name": "ipython",
        "version": 3
      },
      "file_extension": ".py",
      "mimetype": "text/x-python",
      "name": "python",
      "nbconvert_exporter": "python",
      "pygments_lexer": "ipython3",
      "version": "3.11.3"
    }
  },
  "nbformat": 4,
  "nbformat_minor": 0
}
