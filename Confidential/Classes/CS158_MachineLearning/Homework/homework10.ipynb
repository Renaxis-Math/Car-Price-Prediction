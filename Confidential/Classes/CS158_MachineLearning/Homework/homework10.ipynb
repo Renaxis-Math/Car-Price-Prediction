{
  "cells": [
    {
      "cell_type": "markdown",
      "metadata": {
        "id": "FZ0um49rzsKR"
      },
      "source": [
        "**Homework 10**"
      ]
    },
    {
      "cell_type": "markdown",
      "metadata": {
        "id": "7pR7ZPp9zzik"
      },
      "source": [
        "We'll start with a few imports and our running library of functions."
      ]
    },
    {
      "cell_type": "code",
      "execution_count": 109,
      "metadata": {},
      "outputs": [],
      "source": [
        "import ssl\n",
        "ssl._create_default_https_context = ssl._create_unverified_context"
      ]
    },
    {
      "cell_type": "code",
      "execution_count": 110,
      "metadata": {
        "id": "o3bG8pKfzy4M"
      },
      "outputs": [],
      "source": [
        "import pandas as pd\n",
        "import numpy as np\n",
        "import matplotlib.pyplot as plt\n",
        "\n",
        "\n",
        "def TrainTestSplit(X,y,p,seed=1):\n",
        "  '''Splits feature matrix X and target array y into train and test sets\n",
        "  p is the fraction going to train'''\n",
        "  np.random.seed(seed) #controls randomness\n",
        "  size=len(y)\n",
        "  train_size=int(p*size)\n",
        "  train_mask=np.zeros(size,dtype=bool)\n",
        "  train_indices=np.random.choice(size, train_size, replace=False)\n",
        "  train_mask[train_indices]=True\n",
        "  test_mask=~train_mask\n",
        "  X_train=X[train_mask]\n",
        "  X_test=X[test_mask]\n",
        "  y_train=y[train_mask]\n",
        "  y_test=y[test_mask]\n",
        "  return X_train,X_test,y_train,y_test\n",
        "\n",
        "def PolyFeatures(x,d):\n",
        "  X=np.zeros((len(x),d+1))\n",
        "  for i in range(d+1):\n",
        "    X[:,i]=x**i\n",
        "  return X\n",
        "\n",
        "def AddOnes(X):\n",
        "  return np.concatenate((X,np.ones((len(X),1))),axis=1)\n",
        "\n",
        "class Scaler:\n",
        "  def __init__(self,z):\n",
        "    self.min=np.min(z,axis=0)\n",
        "    self.max=np.max(z,axis=0)\n",
        "\n",
        "  def scale(self,x):\n",
        "    return (x-self.min)/(self.max-self.min)\n",
        "\n",
        "  def unscale(self,x):\n",
        "    return x*(self.max-self.min)+self.min\n",
        "\n",
        "def train(X,y,max_iter,lr):\n",
        "  '''MSE minimization by Gradient Descent'''\n",
        "  X=np.array(X) #Just in case X is a DataFrame\n",
        "  y=np.array(y) #Just in case y is a Series\n",
        "  n=len(X)\n",
        "  coeff=np.ones(X.shape[1]) #Initialize all coeff to be 1 (something to play with?)\n",
        "  for i in range(max_iter):\n",
        "    resid=X@coeff-y\n",
        "    gradient=((X.T)@resid)/n #Lot's of lin alg here. Try to unpack it!\n",
        "    coeff=coeff-lr*gradient #Gradient Descent step.\n",
        "  return coeff\n",
        "\n",
        "def SGD(X,y,epochs,batch_size,lr,alpha=0,beta=0):\n",
        "  '''Stochastic Gradient Descent With L1 and L2 regularization'''\n",
        "  #alpha=amount of L1 (Lasso) regularization\n",
        "  #beta=amount of L2 (Ridge) regularization\n",
        "  X=np.array(X) #Just in case X is a DataFrame\n",
        "  y=np.array(y) #Just in case y is a Series\n",
        "  n=len(X)\n",
        "  coeff=np.ones(X.shape[1]) #Initialize all coeff to be 1 (something to play with?)\n",
        "  indices=np.arange(len(X))\n",
        "  for i in range(epochs):\n",
        "    np.random.seed(i)\n",
        "    np.random.shuffle(indices)\n",
        "    X_shuffle=X[indices]\n",
        "    y_shuffle=y[indices]\n",
        "    num_batches=n//batch_size\n",
        "    for j in range(num_batches):\n",
        "      X_batch=X_shuffle[j*batch_size:(j+1)*batch_size]\n",
        "      y_batch=y_shuffle[j*batch_size:(j+1)*batch_size]\n",
        "      resid=X_batch@coeff-y_batch\n",
        "      gradient=lr*((X_batch.T)@resid)/len(X_batch)+alpha*(2*(coeff>0)-1)+beta*coeff\n",
        "      coeff=coeff-gradient #Gradient Descent step.\n",
        "    if n%batch_size!=0: #Check if there is a smaller leftover batch\n",
        "      X_batch=X_shuffle[num_batches*batch_size:] #last batch\n",
        "      y_batch=y_shuffle[num_batches*batch_size:] #last batch\n",
        "      resid=X_batch@coeff-y_batch\n",
        "      gradient=lr*((X_batch.T)@resid)/len(X_batch)+alpha*(2*(coeff>0)-1)+beta*coeff\n",
        "      coeff=coeff-gradient\n",
        "  return coeff\n",
        "\n",
        "def predict(X,coeff): #If X was scaled, then this will return scaled predictions\n",
        "  return X@coeff\n",
        "\n",
        "def MSE(pred,y):\n",
        "  return np.sum((pred-y)**2)/len(y)"
      ]
    },
    {
      "cell_type": "markdown",
      "metadata": {
        "id": "MuPrvVge0Gb5"
      },
      "source": [
        "Now we'll load the iris dataset as a pandas DataFrame."
      ]
    },
    {
      "cell_type": "code",
      "execution_count": 111,
      "metadata": {
        "id": "AibXEthd0F73"
      },
      "outputs": [],
      "source": [
        "iris=(pd.read_csv('https://vincentarelbundock.github.io/Rdatasets/csv/datasets/iris.csv',index_col=0))"
      ]
    },
    {
      "cell_type": "markdown",
      "metadata": {
        "id": "tsojVh_CkD0g"
      },
      "source": [
        "In this assignment you'll create a general Logistic Regression funcation, and train it to predict which flowers are virginicas just from their petal length and width. Since this is a very simple dataset, we won't worry about doing a train/test split, scaling, etc.\n",
        "\n",
        "To begin, we select the `Petal.Length` and `Petal.Width` columns to be our features `X`, and for our target `y` we'll create a boolean array which is True if the species is virginica, and False otherwise."
      ]
    },
    {
      "cell_type": "code",
      "execution_count": 112,
      "metadata": {
        "id": "tcOb3sPWkDWm"
      },
      "outputs": [],
      "source": [
        "X=np.array(iris[['Petal.Length','Petal.Width']])\n",
        "y=np.array(iris['Species']=='virginica')"
      ]
    },
    {
      "cell_type": "markdown",
      "metadata": {
        "id": "27vFXND6mQNt"
      },
      "source": [
        "Now, define a function `sigmoid` by the following formula:\n",
        "$$\\sigma(t)=\\frac{1}{1+e^{-t}}$$\n",
        "\n",
        "Be sure to use np.exp, and not math.exp, so that all operations are vectorized."
      ]
    },
    {
      "cell_type": "code",
      "execution_count": 113,
      "metadata": {
        "id": "mOufNgpBmlPU"
      },
      "outputs": [],
      "source": [
        "def sigmoid(t):\n",
        "  return 1 / (1 + np.exp(-t))"
      ]
    },
    {
      "cell_type": "markdown",
      "metadata": {
        "id": "PUjbGgjFmpPD"
      },
      "source": [
        "What we are after is to find values of m, n, and b so that $$\\sigma(m*length+n*width+b)$$ is a good predictor of the probability of a flower being a virginica.\n",
        "\n",
        "In general, for a feature matrix `X` (with a column of ones), we want to find a vector of coefficients `coeff` so that $\\sigma$(X@coeff) is a good predictor of the target column.   \n",
        "\n",
        "Define a function `proba` that gives the value of this probability."
      ]
    },
    {
      "cell_type": "code",
      "execution_count": 114,
      "metadata": {
        "id": "FfckWF6InUkL"
      },
      "outputs": [],
      "source": [
        "def proba(X,coeff):\n",
        "  return sigmoid(X @ np.transpose(coeff))"
      ]
    },
    {
      "cell_type": "markdown",
      "metadata": {
        "id": "YA99XHRM5WpY"
      },
      "source": [
        "Use a logistic model defined by m=-2, n=0.5, and b=10 to generate an array of probabilities for the matrix X of petal lengths and widths (don't forget to add a column of ones!)."
      ]
    },
    {
      "cell_type": "code",
      "execution_count": 115,
      "metadata": {},
      "outputs": [],
      "source": [
        "m = -2\n",
        "n = 0.5\n",
        "b = 10\n",
        "\n",
        "coeff = [-2, 0.5, 10]"
      ]
    },
    {
      "cell_type": "code",
      "execution_count": 116,
      "metadata": {},
      "outputs": [],
      "source": [
        "ones_column = np.ones((X.shape[0], 1), dtype=X.dtype)"
      ]
    },
    {
      "cell_type": "code",
      "execution_count": 117,
      "metadata": {},
      "outputs": [
        {
          "data": {
            "text/plain": [
              "(150, 3)"
            ]
          },
          "execution_count": 117,
          "metadata": {},
          "output_type": "execute_result"
        }
      ],
      "source": [
        "X_with_ones = np.append(X, ones_column, axis = 1)\n",
        "X_with_ones.shape"
      ]
    },
    {
      "cell_type": "code",
      "execution_count": 118,
      "metadata": {
        "id": "IGPLB12q5aHo"
      },
      "outputs": [],
      "source": [
        "probs = proba(X_with_ones, coeff)"
      ]
    },
    {
      "cell_type": "markdown",
      "metadata": {
        "id": "dI72dhoE5yCx"
      },
      "source": [
        "Write a function `predict` that takes an array of probabilities and returns True for each one that is above 0.5, and False otherwise. Then, use this function to make predictions on weather or not each flower is a virginica, based on the logistic model with coefficients m=-2, n=0.5, and b=10."
      ]
    },
    {
      "cell_type": "code",
      "execution_count": 119,
      "metadata": {
        "id": "ZCQCra4X58HJ"
      },
      "outputs": [],
      "source": [
        "def predict(probs):\n",
        "  return probs > 0.5\n",
        "\n",
        "predictions = predict(probs)"
      ]
    },
    {
      "cell_type": "markdown",
      "metadata": {
        "id": "7x-eNtYjoi46"
      },
      "source": [
        "Write a function `accuracy` that takes an array or predicted True/False values and an array of target True/False values, and determines the accuracy of the predictions. Then, use this to determine the accuracy of the logistic model with coefficients m=-2, n=0.5, and b=10."
      ]
    },
    {
      "cell_type": "code",
      "execution_count": 120,
      "metadata": {
        "id": "jb0YlNK56pYi"
      },
      "outputs": [],
      "source": [
        "def accuracy(pred,y):\n",
        "  return np.sum(pred == y) / len(y)\n",
        "\n",
        "acc = accuracy(predictions, y)"
      ]
    },
    {
      "cell_type": "markdown",
      "metadata": {
        "id": "tM57Y1dYpY3_"
      },
      "source": [
        "The function we will optimize is not accuracy, but rather the log of the probability that our guesses for the target column are correct, if we guess according to the probabilities given by our model (log-loss). To compute this, define a function that calculates the *mean* log loss. Then, apply this function to the logistic model with coefficients m=-2, n=0.5, and b=10. As discussed in class, the log loss is given by:\n",
        "\n",
        "$$\\log \\left(\\prod \\limits _{target_i=T} p_i \\cdot \\prod \\limits _{target_i=F} (1-p_i)\\right)\\\\\n",
        "=\\sum \\limits _{target_i=T} \\log(p_i) + \\sum \\limits _{target_i=F} \\log(1-p_i)\\\\\n",
        "=\\sum \\limits _i  target_i \\log(p_i) +  (1-target_i)\\log(1-p_i)$$\n",
        "\n",
        "As in the case of RSS vs MSE, the mean log loss is obtained from the log loss by dividing by the number of rows in our dataset, to account for datasets of varying size."
      ]
    },
    {
      "cell_type": "code",
      "execution_count": 131,
      "metadata": {
        "id": "NePpvEVBrzBE"
      },
      "outputs": [
        {
          "data": {
            "text/plain": [
              "-3.450044815807957"
            ]
          },
          "execution_count": 131,
          "metadata": {},
          "output_type": "execute_result"
        }
      ],
      "source": [
        "def LogLoss(probs,y):\n",
        "  return (np.dot(y, np.log(probs)) + np.dot(1 - y, np.log(1 - probs)))\n",
        "\n",
        "LL = LogLoss(probs, y) / X.shape[0]\n",
        "LL"
      ]
    },
    {
      "cell_type": "markdown",
      "metadata": {
        "id": "BRSN9ovRr2LI"
      },
      "source": [
        "The above quantity is a number between $-\\infty$ and $0$, with numbers closer to 0 being better. Rather than maximize this, we will minimze its negation (i.e. we'll put a negative sign in front and use gradient descent).\n",
        "\n",
        "For example, in the case of our iris model, the gradient of the mean log loss is given by the three partial derivatives:\n",
        "$$\\frac{\\partial ll}{\\partial m}= \\frac{1}{len(y)}\\sum \\limits _i (p_i-target_i)length_i$$\n",
        "$$\\frac{\\partial ll}{\\partial n}= \\frac{1}{len(y)}\\sum \\limits _i (p_i-target_i)width_i$$\n",
        "$$\\frac{\\partial ll}{\\partial b}= \\frac{1}{len(y)}\\sum \\limits _i (p_i-target_i)$$\n",
        "\n",
        "Again, we will also divide these by the number of rows in our dataset, to account for datasets of varying size."
      ]
    },
    {
      "cell_type": "markdown",
      "metadata": {
        "id": "19Czn6FbwuR3"
      },
      "source": [
        "In general, if you have a feature matrix X and a logistic model giving probabilities `proba` for a target `y` then the gradient vector is given by `X.T@(proba-y)/len(X)`.\n",
        "\n",
        "Use this to modify the SGD function defined in the previous homework assignment to find an optimal Logistic regression model. As before, we will use stochastic (batch) gradient descent, with possible L1 and L2 regularization."
      ]
    },
    {
      "cell_type": "code",
      "execution_count": 141,
      "metadata": {
        "id": "jLJK55eU0o0Z"
      },
      "outputs": [],
      "source": [
        "def LogisticSGD(X,y,epochs,batch_size,lr,alpha=0,beta=0):\n",
        "  '''Stochastic Gradient Descent for Logistic Regression'''\n",
        "  #alpha=amount of L1 (Lasso) regularization\n",
        "  #beta=amount of L2 (Ridge) regularization\n",
        "  X=np.array(X) #Just in case X is a DataFrame\n",
        "  y=np.array(y) #Just in case y is a Series\n",
        "  n=len(X)\n",
        "  coeff=np.ones(X.shape[1]) #Initialize all coeff to be 1 (something to play with?)\n",
        "  indices=np.arange(len(X))\n",
        "  for i in range(epochs):\n",
        "    np.random.seed(i)\n",
        "    np.random.shuffle(indices)\n",
        "    X_shuffle=X[indices]\n",
        "    y_shuffle=y[indices]\n",
        "    num_batches=n//batch_size\n",
        "    for j in range(num_batches):\n",
        "      X_batch=X_shuffle[j*batch_size:(j+1)*batch_size]\n",
        "      y_batch=y_shuffle[j*batch_size:(j+1)*batch_size]\n",
        "      resid=proba(X_batch, coeff)-y_batch\n",
        "      gradient=lr*((X_batch.T)@resid)/len(X_batch)+alpha*(2*(coeff>0)-1)+beta*coeff\n",
        "      coeff=coeff-gradient #Gradient Descent step.\n",
        "    if n%batch_size!=0: #Check if there is a smaller leftover batch\n",
        "      X_batch=X_shuffle[num_batches*batch_size:] #last batch\n",
        "      y_batch=y_shuffle[num_batches*batch_size:] #last batch\n",
        "      resid=proba(X_batch, coeff)-y_batch\n",
        "      gradient=lr*((X_batch.T)@resid)/len(X_batch)+alpha*(2*(coeff>0)-1)+beta*coeff\n",
        "      coeff=coeff-gradient\n",
        "  return coeff"
      ]
    },
    {
      "cell_type": "markdown",
      "metadata": {
        "id": "_yp0AqJOm7PH"
      },
      "source": [
        "Use this function to compute coefficients for a logistic model for the feature matrix X (with a columns of ones added) and target y. Run your code for 2000 epochs, with batch sizes of 50, and learning rate 0.01. For this assignment, we won't worry about regularization, so leave alpha and beta at 0."
      ]
    },
    {
      "cell_type": "code",
      "execution_count": 142,
      "metadata": {},
      "outputs": [],
      "source": [
        "epochs = 2000\n",
        "batch_size = 50\n",
        "lr = 0.01"
      ]
    },
    {
      "cell_type": "code",
      "execution_count": 143,
      "metadata": {
        "id": "o_0bEXPD9uyd"
      },
      "outputs": [],
      "source": [
        "newcoeff = LogisticSGD(X_with_ones, y, epochs, batch_size, lr)"
      ]
    },
    {
      "cell_type": "markdown",
      "metadata": {
        "id": "U1SCskJXnLAS"
      },
      "source": [
        "Calculate the accuracy of the logistic model you found with these coefficients."
      ]
    },
    {
      "cell_type": "code",
      "execution_count": 144,
      "metadata": {},
      "outputs": [],
      "source": [
        "new_probs = proba(X_with_ones, newcoeff)"
      ]
    },
    {
      "cell_type": "code",
      "execution_count": 145,
      "metadata": {},
      "outputs": [],
      "source": [
        "new_predictions = predict(new_probs)"
      ]
    },
    {
      "cell_type": "code",
      "execution_count": 149,
      "metadata": {
        "id": "l_QH7DV3t4WF"
      },
      "outputs": [],
      "source": [
        "newaccuracy = accuracy(new_predictions, y)"
      ]
    },
    {
      "cell_type": "markdown",
      "metadata": {
        "id": "d-_Vobu0HzK_"
      },
      "source": [
        "To see the \"decision boundary\" between where your model will predict virginica (in blue) vs the other species, run the following code block:"
      ]
    },
    {
      "cell_type": "code",
      "execution_count": 150,
      "metadata": {
        "id": "JYnGnyk_zEIq"
      },
      "outputs": [
        {
          "data": {
            "text/plain": [
              "[<matplotlib.lines.Line2D at 0x1288c64d0>]"
            ]
          },
          "execution_count": 150,
          "metadata": {},
          "output_type": "execute_result"
        },
        {
          "data": {
            "image/png": "[encoded data removed]",
            "text/plain": [
              "<Figure size 640x480 with 1 Axes>"
            ]
          },
          "metadata": {},
          "output_type": "display_data"
        }
      ],
      "source": [
        "def func(x):\n",
        "  m=-newcoeff[0]/newcoeff[1]\n",
        "  b=-newcoeff[2]/newcoeff[1]\n",
        "  return m*x+b\n",
        "\n",
        "cdict={'versicolor':'r','setosa':'g','virginica':'b'}\n",
        "colors=iris.apply(lambda x:cdict[x.Species],axis=1)\n",
        "\n",
        "plt.scatter(X[:,0],X[:,1],c=colors)\n",
        "plt.plot(X[:,0],func(X[:,0]))"
      ]
    }
  ],
  "metadata": {
    "colab": {
      "provenance": []
    },
    "kernelspec": {
      "display_name": "Python 3",
      "name": "python3"
    },
    "language_info": {
      "codemirror_mode": {
        "name": "ipython",
        "version": 3
      },
      "file_extension": ".py",
      "mimetype": "text/x-python",
      "name": "python",
      "nbconvert_exporter": "python",
      "pygments_lexer": "ipython3",
      "version": "3.11.3"
    }
  },
  "nbformat": 4,
  "nbformat_minor": 0
}
